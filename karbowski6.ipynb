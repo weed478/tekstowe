{
 "cells": [
  {
   "cell_type": "markdown",
   "id": "fb8448d2",
   "metadata": {},
   "source": [
    "# Lab 6\n",
    "Jakub Karbowski"
   ]
  },
  {
   "cell_type": "markdown",
   "id": "188cbf5f",
   "metadata": {},
   "source": [
    "# Wykorzystane biblioteki\n",
    "- Clustering: algorytmy klasteryzacji i oceny jakości\n",
    "- Distances: metryki"
   ]
  },
  {
   "cell_type": "code",
   "execution_count": 2,
   "id": "ae8a1c2d",
   "metadata": {},
   "outputs": [
    {
     "name": "stderr",
     "output_type": "stream",
     "text": [
      "\u001b[32m\u001b[1m   Resolving\u001b[22m\u001b[39m package versions...\n",
      "\u001b[32m\u001b[1m  No Changes\u001b[22m\u001b[39m to `~/.julia/environments/v1.7/Project.toml`\n",
      "\u001b[32m\u001b[1m  No Changes\u001b[22m\u001b[39m to `~/.julia/environments/v1.7/Manifest.toml`\n"
     ]
    }
   ],
   "source": [
    "import Pkg\n",
    "Pkg.add([\n",
    "    \"Clustering\",\n",
    "    \"Distances\",\n",
    "])\n",
    "\n",
    "using Clustering: hclust, cutree, silhouettes\n",
    "using Distances: euclidean, cosine_dist\n",
    "using Statistics: mean # <- to jest z std julii"
   ]
  },
  {
   "cell_type": "markdown",
   "id": "9fc5e770",
   "metadata": {},
   "source": [
    "# Preprocessing\n",
    "Będę rozważał tylko litery a-z oraz spacje.\n",
    "Usuwam więcej niż jedno wystąpienie spacji obok siebie.\n",
    "Wszystkie znaki są też zamieniane na małe litery."
   ]
  },
  {
   "cell_type": "code",
   "execution_count": 3,
   "id": "827ff4af",
   "metadata": {},
   "outputs": [
    {
     "data": {
      "text/plain": [
       "('a', 'b', 'c', 'd', 'e', 'f', 'g', 'h', 'i', 'j', 'k', 'l', 'm', 'n', 'o', 'p', 'q', 'r', 's', 't', 'u', 'v', 'w', 'x', 'y', 'z', ' ')"
      ]
     },
     "execution_count": 3,
     "metadata": {},
     "output_type": "execute_result"
    }
   ],
   "source": [
    "const PREPROCESS_CHARS = Tuple(['a':'z'; ' '])"
   ]
  },
  {
   "cell_type": "code",
   "execution_count": 4,
   "id": "e6b126f9",
   "metadata": {},
   "outputs": [
    {
     "data": {
      "text/plain": [
       "preprocess (generic function with 1 method)"
      ]
     },
     "execution_count": 4,
     "metadata": {},
     "output_type": "execute_result"
    }
   ],
   "source": [
    "function preprocess(l)\n",
    "    l = filter(lowercase(l)) do c\n",
    "        c in PREPROCESS_CHARS\n",
    "    end\n",
    "    \n",
    "    while true\n",
    "        l1 = length(l)\n",
    "        l = replace(l, \"  \" => \" \")\n",
    "        l2 = length(l)\n",
    "        if l1 == l2\n",
    "            break\n",
    "        end\n",
    "    end\n",
    "\n",
    "    if l[1] == ' '\n",
    "        l = l[2:end]\n",
    "    end\n",
    "\n",
    "    if l[end] == ' '\n",
    "        l = l[1:end-1]\n",
    "    end\n",
    "\n",
    "    l\n",
    "end"
   ]
  },
  {
   "cell_type": "markdown",
   "id": "7baf3be8",
   "metadata": {},
   "source": [
    "# Stoplist\n",
    "Usuwam 1% najczęstszych słów."
   ]
  },
  {
   "cell_type": "code",
   "execution_count": 5,
   "id": "3dbf9817",
   "metadata": {},
   "outputs": [
    {
     "data": {
      "text/plain": [
       "applystoplist (generic function with 1 method)"
      ]
     },
     "execution_count": 5,
     "metadata": {},
     "output_type": "execute_result"
    }
   ],
   "source": [
    "function applystoplist(lines)\n",
    "    words = reduce(vcat, split.(lines)) |> unique\n",
    "    counts = zeros(Int, length(words))\n",
    "    for l = lines, w = split(l)\n",
    "        i = argmax(i -> words[i] == w, eachindex(words))\n",
    "        counts[i] += 1\n",
    "    end\n",
    "    wc = zip(words, counts) |> collect\n",
    "    sort!(wc, by=(wc -> wc[2]), rev=true)\n",
    "    stoplist = getindex.(wc, 1)[1:div(end, 100)]\n",
    "    @show stoplist\n",
    "    map(lines) do l\n",
    "        join(filter(w -> !(w in stoplist), split(l, ' ')), ' ')\n",
    "    end\n",
    "end"
   ]
  },
  {
   "cell_type": "markdown",
   "id": "d3154315",
   "metadata": {},
   "source": [
    "# Wektoryzacja\n",
    "Najprostsza, zliczam wystąpienia każdej litery w wektorze długości 27 (26 liter + spacja)."
   ]
  },
  {
   "cell_type": "code",
   "execution_count": 6,
   "id": "9a508437",
   "metadata": {},
   "outputs": [
    {
     "data": {
      "text/plain": [
       "vectorize (generic function with 1 method)"
      ]
     },
     "execution_count": 6,
     "metadata": {},
     "output_type": "execute_result"
    }
   ],
   "source": [
    "function vectorize(l)\n",
    "    [count(s -> s == c, l) for c = PREPROCESS_CHARS]\n",
    "end"
   ]
  },
  {
   "cell_type": "markdown",
   "id": "face6553",
   "metadata": {},
   "source": [
    "# Ładowanie danych"
   ]
  },
  {
   "cell_type": "code",
   "execution_count": 7,
   "id": "cf7f8a96",
   "metadata": {},
   "outputs": [
    {
     "data": {
      "text/plain": [
       "loadlines (generic function with 1 method)"
      ]
     },
     "execution_count": 7,
     "metadata": {},
     "output_type": "execute_result"
    }
   ],
   "source": [
    "loadlines(n) = collect(\n",
    "    Iterators.filter(\n",
    "        l -> !isempty(l),\n",
    "        Iterators.take(\n",
    "            readlines(\"data/lines.txt\"),\n",
    "            n,\n",
    "        ),\n",
    "    )\n",
    ")"
   ]
  },
  {
   "cell_type": "markdown",
   "id": "64cf1cce",
   "metadata": {},
   "source": [
    "# Levenshtein\n",
    "Można było lepiej bez macierzy $n^2$."
   ]
  },
  {
   "cell_type": "code",
   "execution_count": 8,
   "id": "10efc273",
   "metadata": {},
   "outputs": [
    {
     "data": {
      "text/plain": [
       "3"
      ]
     },
     "execution_count": 8,
     "metadata": {},
     "output_type": "execute_result"
    }
   ],
   "source": [
    "function levenshtein(t1, t2)\n",
    "    delta(x, y) = x == y ? 0 : 1\n",
    "    \n",
    "    n1 = length(t1)\n",
    "    n2 = length(t2)\n",
    "\n",
    "    f = zeros(Int, n1 + 1, n2 + 1)\n",
    "    f[1:end, 1] = 0:n1\n",
    "    f[1, 1:end] = 0:n2\n",
    "    \n",
    "    for i = 2:n1+1, j = 2:n2+1\n",
    "        up = f[i-1, j] + 1\n",
    "        left = f[i, j-1] + 1\n",
    "        upleft = f[i-1, j-1] + delta(t1[i-1], t2[j-1])\n",
    "\n",
    "        f[i, j] = min(up, left, upleft)\n",
    "    end\n",
    "    \n",
    "    f[end, end]\n",
    "end\n",
    "\n",
    "levenshtein(\"levenshtein\", \"lewensztain\")"
   ]
  },
  {
   "cell_type": "markdown",
   "id": "ecc3a774",
   "metadata": {},
   "source": [
    "# Klasteryzacja\n",
    "Używam hierarchical clustering. Drzewo ucinane jest na takiej wysokości,\n",
    "aby uzyskać \"rozsądną\" liczbę klastrów.\n",
    "\n",
    "Testując różne metryki, staram się zachować taką samą liczbę klastrów.\n",
    "\n",
    "## Ocena jakości\n",
    "Do oceny jakości klastrów, stosuję funkcję [silhouettes](https://en.wikipedia.org/wiki/Silhouette_(clustering)).\n",
    "Biorę średnią wyników dla wszystkich punktów.\n",
    "Większa wartość oznacza lepszą klasteryzację."
   ]
  },
  {
   "cell_type": "code",
   "execution_count": 9,
   "id": "cce3ca5e",
   "metadata": {},
   "outputs": [
    {
     "data": {
      "text/plain": [
       "runclustering (generic function with 1 method)"
      ]
     },
     "execution_count": 9,
     "metadata": {},
     "output_type": "execute_result"
    }
   ],
   "source": [
    "function runclustering(lines, dist, h)\n",
    "    d = [dist(a, b) for a = lines, b = lines]\n",
    "\n",
    "    tree = hclust(d)\n",
    "    assignments = cutree(tree, h=h)\n",
    "    clusters = [Int[] for i = 1:maximum(assignments)]\n",
    "    for p = eachindex(lines)\n",
    "        push!(clusters[assignments[p]], p)\n",
    "    end\n",
    "    counts = length.(clusters)\n",
    "\n",
    "    println(\"Number of clusters: $(length(clusters))\")\n",
    "\n",
    "    quality = mean(silhouettes(assignments, counts, d))\n",
    "    println(\"Quality: $quality\")\n",
    "\n",
    "    println(\"Biggest cluster:\")\n",
    "    c = argmax(counts)\n",
    "    [lines[i] for i = clusters[c]] .|> println\n",
    "\n",
    "    quality\n",
    "end"
   ]
  },
  {
   "cell_type": "markdown",
   "id": "d106b581",
   "metadata": {},
   "source": [
    "# Levenshtein, no stop list"
   ]
  },
  {
   "cell_type": "code",
   "execution_count": 10,
   "id": "678e5dc3",
   "metadata": {},
   "outputs": [
    {
     "name": "stdout",
     "output_type": "stream",
     "text": [
      "Number of clusters: 497\n",
      "Quality: 0.3746279170467211\n",
      "Biggest cluster:\n",
      "actona company assmedegaardvej tvis holstebrodenmark\n",
      "actona company assmedegaardvej tvis holstebrodenmark\n",
      "actona company as smedegaardvej tvis holstebro denmark\n",
      "actona company as smedegaardvej tvis holstebro denmark\n",
      "actona company as smedegaardvej atvis holstebrodenmark\n",
      "actona company as smedegardsvej a tvis dk holstebro denmark\n",
      "actona company as smedegardvej atvis dk holstebro denmark\n",
      "actona company as smedegardvej atvis dk holstebro denmark\n",
      "actona company as smedegardvej atvis dk holstebro denmark\n",
      "actona company as smedegardvej a tvis dk holstebro denmark\n",
      "actona company as smedegardvej atvis dk holstebro denmark\n"
     ]
    }
   ],
   "source": [
    "lines = loadlines(700) .|> preprocess\n",
    "levnostop = runclustering(lines, levenshtein, 5)\n",
    ";"
   ]
  },
  {
   "cell_type": "markdown",
   "id": "8ed8923f",
   "metadata": {},
   "source": [
    "# Levenshtein, stop list"
   ]
  },
  {
   "cell_type": "code",
   "execution_count": 11,
   "id": "1ac53e29",
   "metadata": {},
   "outputs": [
    {
     "name": "stdout",
     "output_type": "stream",
     "text": [
      "stoplist = SubString{String}[\"tel\", \"fax\", \"ltd\", \"poland\", \"russia\", \"str\", \"ul\", \"gdynia\", \"a\", \"llc\", \"sa\", \"telfax\", \"moscow\", \"oo\", \"forwarding\", \"sp\", \"logistics\", \"china\", \"petersburg\"]\n",
      "Number of clusters: 504\n",
      "Quality: 0.3667066576704834\n",
      "Biggest cluster:\n",
      "actona company assmedegaardvej tvis holstebrodenmark\n",
      "actona company assmedegaardvej tvis holstebrodenmark\n",
      "actona company as smedegaardvej tvis holstebro denmark\n",
      "actona company as smedegaardvej tvis holstebro denmark\n",
      "actona company as smedegaardvej atvis holstebrodenmark\n",
      "actona company as smedegardsvej tvis dk holstebro denmark\n",
      "actona company as smedegardvej atvis dk holstebro denmark\n",
      "actona company as smedegardvej atvis dk holstebro denmark\n",
      "actona company as smedegardvej atvis dk holstebro denmark\n",
      "actona company as smedegardvej tvis dk holstebro denmark\n",
      "actona company as smedegardvej atvis dk holstebro denmark\n"
     ]
    }
   ],
   "source": [
    "lines = loadlines(700) .|> preprocess |> applystoplist\n",
    "levstop = runclustering(lines, levenshtein, 5)\n",
    ";"
   ]
  },
  {
   "cell_type": "markdown",
   "id": "75683e87",
   "metadata": {},
   "source": [
    "Powstały sensowne klastry. Gorsza jakość ze stoplistą."
   ]
  },
  {
   "cell_type": "markdown",
   "id": "74e870e7",
   "metadata": {},
   "source": [
    "# Euclidean, no stop list"
   ]
  },
  {
   "cell_type": "code",
   "execution_count": 12,
   "id": "3b2d2bf7",
   "metadata": {},
   "outputs": [
    {
     "name": "stdout",
     "output_type": "stream",
     "text": [
      "Number of clusters: 505\n",
      "Quality: 0.30593071258029886\n",
      "Biggest cluster:\n",
      "actona company assmedegaardvej tvis holstebrodenmark\n",
      "actona company assmedegaardvej tvis holstebrodenmark\n",
      "actona company as smedegaardvej tvis holstebro denmark\n",
      "actona company as smedegaardvej tvis holstebro denmark\n",
      "actona company as smedegaardvej atvis holstebrodenmark\n",
      "actona company as smedegardsvej a tvis dk holstebro denmark\n",
      "actona company as smedegardvej atvis dk holstebro denmark\n",
      "actona company as smedegardvej atvis dk holstebro denmark\n",
      "actona company as smedegardvej atvis dk holstebro denmark\n",
      "actona company as smedegardvej a tvis dk holstebro denmark\n",
      "actona company as smedegardvej atvis dk holstebro denmark\n"
     ]
    }
   ],
   "source": [
    "lines = loadlines(700) .|> preprocess\n",
    "eucnostop = runclustering(lines, (a, b) -> euclidean(a |> vectorize, b |> vectorize), 2.3)\n",
    ";"
   ]
  },
  {
   "cell_type": "markdown",
   "id": "01202ab6",
   "metadata": {},
   "source": [
    "# Euclidean, stop list"
   ]
  },
  {
   "cell_type": "code",
   "execution_count": 13,
   "id": "116a9e9b",
   "metadata": {},
   "outputs": [
    {
     "name": "stdout",
     "output_type": "stream",
     "text": [
      "stoplist = SubString{String}[\"tel\", \"fax\", \"ltd\", \"poland\", \"russia\", \"str\", \"ul\", \"gdynia\", \"a\", \"llc\", \"sa\", \"telfax\", \"moscow\", \"oo\", \"forwarding\", \"sp\", \"logistics\", \"china\", \"petersburg\"]\n",
      "Number of clusters: 511\n",
      "Quality: 0.3213001927263695\n",
      "Biggest cluster:\n",
      "actona company assmedegaardvej tvis holstebrodenmark\n",
      "actona company assmedegaardvej tvis holstebrodenmark\n",
      "actona company as smedegaardvej tvis holstebro denmark\n",
      "actona company as smedegaardvej tvis holstebro denmark\n",
      "actona company as smedegaardvej tvis dk holstebro\n",
      "actona company as smedegaardvej atvis holstebrodenmark\n",
      "actona company as smedegardsvej tvis dk holstebro denmark\n",
      "actona company as smedegardvej atvis dk holstebro denmark\n",
      "actona company as smedegardvej atvis dk holstebro denmark\n",
      "actona company as smedegardvej atvis dk holstebro denmark\n",
      "actona company as smedegardvej tvis dk holstebro denmark\n",
      "actona company as smedegardvej atvis dk holstebro denmark\n"
     ]
    }
   ],
   "source": [
    "lines = loadlines(700) .|> preprocess |> applystoplist\n",
    "eucstop = runclustering(lines, (a, b) -> euclidean(a |> vectorize, b |> vectorize), 2.3)\n",
    ";"
   ]
  },
  {
   "cell_type": "markdown",
   "id": "74c7c67a",
   "metadata": {},
   "source": [
    "Gorsza jakość niż Levenshtein, szybsze obliczenia. Ze stoplistą lepiej niż bez."
   ]
  },
  {
   "cell_type": "markdown",
   "id": "308c1ae4",
   "metadata": {},
   "source": [
    "# Cosine, no stop"
   ]
  },
  {
   "cell_type": "code",
   "execution_count": 14,
   "id": "30af43d6",
   "metadata": {},
   "outputs": [
    {
     "name": "stdout",
     "output_type": "stream",
     "text": [
      "Number of clusters: 501\n",
      "Quality: 0.38935936246229996\n",
      "Biggest cluster:\n",
      "actona company assmedegaardvej tvis holstebrodenmark\n",
      "actona company assmedegaardvej tvis holstebrodenmark\n",
      "actona company as smedegaardvej tvis holstebro denmark\n",
      "actona company as smedegaardvej tvis holstebro denmark\n",
      "actona company as smedegaardvej atvis holstebrodenmark\n",
      "actona company as smedegardsvej a tvis dk holstebro denmark\n",
      "actona company as smedegardvej atvis dk holstebro denmark\n",
      "actona company as smedegardvej atvis dk holstebro denmark\n",
      "actona company as smedegardvej atvis dk holstebro denmark\n",
      "actona company as smedegardvej a tvis dk holstebro denmark\n",
      "actona company as smedegardvej atvis dk holstebro denmark\n"
     ]
    }
   ],
   "source": [
    "lines = loadlines(700) .|> preprocess\n",
    "cosnostop = runclustering(lines, (a, b) -> cosine_dist(a |> vectorize, b |> vectorize), 0.006)\n",
    ";"
   ]
  },
  {
   "cell_type": "markdown",
   "id": "1d201f29",
   "metadata": {},
   "source": [
    "# Cosine, stop"
   ]
  },
  {
   "cell_type": "code",
   "execution_count": 15,
   "id": "02f5339b",
   "metadata": {},
   "outputs": [
    {
     "name": "stdout",
     "output_type": "stream",
     "text": [
      "stoplist = SubString{String}[\"tel\", \"fax\", \"ltd\", \"poland\", \"russia\", \"str\", \"ul\", \"gdynia\", \"a\", \"llc\", \"sa\", \"telfax\", \"moscow\", \"oo\", \"forwarding\", \"sp\", \"logistics\", \"china\", \"petersburg\"]\n",
      "Number of clusters: 534\n",
      "Quality: 0.3355471405562397\n",
      "Biggest cluster:\n",
      "actona company assmedegaardvej tvis holstebrodenmark\n",
      "actona company assmedegaardvej tvis holstebrodenmark\n",
      "actona company as smedegaardvej tvis holstebro denmark\n",
      "actona company as smedegaardvej tvis holstebro denmark\n",
      "actona company as smedegaardvej atvis holstebrodenmark\n",
      "actona company as smedegardsvej tvis dk holstebro denmark\n",
      "actona company as smedegardvej atvis dk holstebro denmark\n",
      "actona company as smedegardvej atvis dk holstebro denmark\n",
      "actona company as smedegardvej atvis dk holstebro denmark\n",
      "actona company as smedegardvej tvis dk holstebro denmark\n",
      "actona company as smedegardvej atvis dk holstebro denmark\n"
     ]
    }
   ],
   "source": [
    "lines = loadlines(700) .|> preprocess |> applystoplist\n",
    "cosstop = runclustering(lines, (a, b) -> cosine_dist(a |> vectorize, b |> vectorize), 0.006)\n",
    ";"
   ]
  },
  {
   "cell_type": "markdown",
   "id": "7d2ce6ed",
   "metadata": {},
   "source": [
    "Lepsza jakość niż Levenshtein, jeszcze szybsze obliczenia.\n",
    "Gorzej ze stoplistą niż bez."
   ]
  },
  {
   "cell_type": "markdown",
   "id": "105158f3",
   "metadata": {},
   "source": [
    "# Podsumowanie"
   ]
  },
  {
   "cell_type": "code",
   "execution_count": 16,
   "id": "f3207206",
   "metadata": {},
   "outputs": [
    {
     "data": {
      "text/plain": [
       "3×4 Matrix{Any}:\n",
       " \"\"              \"Levenshtein\"   \"Euclidean\"   \"Cosine\"\n",
       " \"No stoplist\"  0.374628        0.305931      0.389359\n",
       " \"Stoplist\"     0.366707        0.3213        0.335547"
      ]
     },
     "execution_count": 16,
     "metadata": {},
     "output_type": "execute_result"
    }
   ],
   "source": [
    "[\n",
    "    \"\" \"Levenshtein\" \"Euclidean\" \"Cosine\"\n",
    "    \"No stoplist\" levnostop eucnostop cosnostop\n",
    "    \"Stoplist\" levstop eucstop cosstop\n",
    "]"
   ]
  },
  {
   "cell_type": "markdown",
   "id": "c99a178c",
   "metadata": {},
   "source": [
    "Najlepsze metryki:\n",
    "- Cosinusowa bez stoplisty\n",
    "- Levenshteina bez stoplisty\n",
    "\n",
    "Stoplista polepsza klasteryzację tylko dla metryki euklidesowej."
   ]
  },
  {
   "cell_type": "markdown",
   "id": "22615026",
   "metadata": {},
   "source": [
    "# Teraz robi się ciekawie\n",
    "Flux może się trochę długo instalować."
   ]
  },
  {
   "cell_type": "code",
   "execution_count": 18,
   "id": "b19a08fd",
   "metadata": {},
   "outputs": [
    {
     "name": "stderr",
     "output_type": "stream",
     "text": [
      "\u001b[32m\u001b[1m   Resolving\u001b[22m\u001b[39m package versions...\n",
      "\u001b[32m\u001b[1m  No Changes\u001b[22m\u001b[39m to `~/.julia/environments/v1.7/Project.toml`\n",
      "\u001b[32m\u001b[1m  No Changes\u001b[22m\u001b[39m to `~/.julia/environments/v1.7/Manifest.toml`\n"
     ]
    }
   ],
   "source": [
    "import Pkg\n",
    "Pkg.add([\n",
    "    \"Flux\",\n",
    "    \"BSON\",\n",
    "])"
   ]
  },
  {
   "cell_type": "code",
   "execution_count": 19,
   "id": "98f15dbe",
   "metadata": {},
   "outputs": [],
   "source": [
    "using Flux\n",
    "using Flux: DataLoader, params, onecold, onehot, Embedding, Recur, LSTMCell, throttle, @epochs\n",
    "using Flux.Losses: logitcrossentropy\n",
    "using Random: shuffle!, seed!\n",
    "using BSON: @save, @load\n",
    "using Downloads: download"
   ]
  },
  {
   "cell_type": "markdown",
   "id": "0ab3a5e5",
   "metadata": {},
   "source": [
    "# Generowanie danych uczących\n",
    "Biorę pod uwagę tylko litery a-z oraz '_'.\n",
    "\n",
    "Litery są one-hot kodowane.\n",
    "\n",
    "Napisy są zapisywane jako ciągi wektorów one-hot.\n",
    "\n",
    "Sieć będzie uczona na parach sekwencji:\n",
    "- wejście: dwa napisy\n",
    "- wyjście: czy napisy należą do tego samego klastra (dwie klasy TAK/NIE zapisane one-hot)\n",
    "\n",
    "Wykorzystałem plik clusters.txt z przykładową klasteryzacją.\n",
    "\n",
    "Tworząc zbiór uczący, należy zapewnić równą liczbę\n",
    "przykładów dla obu klas.\n",
    "\n",
    "Dla każdego napisu biorę $n$ napisów z klastra tego napisu\n",
    "jako przykłady TAK, oraz $n$ losowych napisów z innych klastrów\n",
    "jako przykłady NIE.\n",
    "\n",
    "Dzięki temu mamy 50% przykładów TAK i 50% NIE.\n",
    "\n",
    "Dla uproszczenia sieci zakładam, że porównywane napisy mają taką samą długość.\n",
    "W tym celu dodaję na końcu padding '_' do krótszego napisu w każdej parze osobno.\n",
    "\n",
    "Sieć jest rekurencyjna, więc może działać na napisach dowolnej długości,\n",
    "jedynie długości porównywanych napisów muszą być takie same."
   ]
  },
  {
   "cell_type": "code",
   "execution_count": 22,
   "id": "73c6460c",
   "metadata": {},
   "outputs": [
    {
     "data": {
      "text/plain": [
       "encodedata (generic function with 1 method)"
      ]
     },
     "execution_count": 22,
     "metadata": {},
     "output_type": "execute_result"
    }
   ],
   "source": [
    "const CHARACTERS = Tuple([('a':'z'); '_'])\n",
    "\n",
    "function loadclusters()\n",
    "    clusters = Vector{Vector{String}}([[]])\n",
    "    for l = filter(l -> length(l) > 0, readlines(\"data/clusters.txt\"))\n",
    "        if count(c -> c == '#', l) == length(l)\n",
    "            push!(clusters, [])\n",
    "        else\n",
    "            push!(clusters[end], l)\n",
    "        end\n",
    "    end\n",
    "    filter(c -> !isempty(c), clusters)\n",
    "end\n",
    "\n",
    "function encodelines(l1, l2)\n",
    "    l1 = filter(c -> c in CHARACTERS, lowercase(l1))\n",
    "    l2 = filter(c -> c in CHARACTERS, lowercase(l2))\n",
    "\n",
    "    l = max(length(l1), length(l2))\n",
    "\n",
    "    @assert l > 0\n",
    "\n",
    "    l1 *= repeat('_', l - length(l1))\n",
    "    l2 *= repeat('_', l - length(l2))\n",
    "\n",
    "    [(onehot(c1, CHARACTERS), onehot(c2, CHARACTERS)) for (c1, c2) = zip(l1, l2)]\n",
    "end\n",
    "\n",
    "function encodedata(clusters::Vector{Vector{String}})\n",
    "    T = typeof(onehot(CHARACTERS[1], CHARACTERS))\n",
    "    xs = Vector{Vector{Tuple{T, T}}}()\n",
    "    ys = Vector{typeof(onehot(false, (false, true)))}()\n",
    "\n",
    "    for (c1i, c1) = enumerate(clusters)\n",
    "        for l1 = c1\n",
    "            for l2 = c1\n",
    "                push!(xs, encodelines(l1, l2))\n",
    "                push!(ys, onehot(true, (false, true)))\n",
    "            end\n",
    "            i = 0\n",
    "            while i < length(c1)\n",
    "                c2i = rand(1:length(clusters))\n",
    "                if c2i == c1i\n",
    "                    continue\n",
    "                end\n",
    "                \n",
    "                c2 = clusters[c2i]\n",
    "                l2 = rand(c2)\n",
    "                \n",
    "                push!(xs, encodelines(l1, l2))\n",
    "                push!(ys, onehot(false, (false, true)))\n",
    "                \n",
    "                i += 1\n",
    "            end\n",
    "        end\n",
    "    end\n",
    "\n",
    "    xs, ys\n",
    "end"
   ]
  },
  {
   "cell_type": "markdown",
   "id": "f767ef4c",
   "metadata": {},
   "source": [
    "# Model\n",
    "Model posiada:\n",
    "- 2 takie same warstwy Embedding do zamiany wektorów one-hot znaków na 16 wymiarowe wektory.\n",
    "- 2 takie same warstwy LSTM do wstępnej analizy obu napisów niezależnie.\n",
    "- 1 warstwę LSTM do porównywania napisów.\n",
    "- Warstwę wyjściową (2 neurony - 2 klasy).\n",
    "\n",
    "```\n",
    "Sequence 1 --> Embedding 1 --> LSTM 1 --\\\n",
    "                                         |--> LSTM 3 --> Output\n",
    "Sequence 2 --> Embedding 2 --> LSTM 2 --/\n",
    "```\n",
    "\n",
    "Warstwy Embedding 1/2 oraz LSTM 1/2 współdzielą wagi."
   ]
  },
  {
   "cell_type": "code",
   "execution_count": 23,
   "id": "3850ce56",
   "metadata": {},
   "outputs": [],
   "source": [
    "struct SemSim{E, L, R, C}\n",
    "    embedder::E\n",
    "    extractor::L\n",
    "    extractor1::R\n",
    "    extractor2::R\n",
    "    comparator::C\n",
    "end\n",
    "\n",
    "function SemSim()\n",
    "    extractor = LSTMCell(16 => 16)\n",
    "    SemSim(\n",
    "        Embedding(length(CHARACTERS) => 16),\n",
    "        extractor,\n",
    "        Recur(extractor),\n",
    "        Recur(extractor),\n",
    "        Chain(\n",
    "            LSTM(32 => 16),\n",
    "            Dense(16 => 2),\n",
    "        ),\n",
    "    )\n",
    "end\n",
    "\n",
    "function (m::SemSim)(x::T) where T <: Tuple\n",
    "    m.comparator(vcat(\n",
    "        m.extractor1(m.embedder(x[1])),\n",
    "        m.extractor2(m.embedder(x[2])),\n",
    "        ))\n",
    "end\n",
    "\n",
    "function (m::SemSim)(xs::T) where T <: Vector\n",
    "    Flux.reset!(m)\n",
    "    y = m(xs[1])\n",
    "    for i = 2:length(xs)\n",
    "        y = m(xs[i])\n",
    "    end\n",
    "    y\n",
    "end\n",
    "\n",
    "classify(m, l1, l2) = onecold(m(encodelines(l1, l2)), (false, true))\n",
    "\n",
    "function Flux.reset!(m::SemSim)\n",
    "    Flux.reset!(m.extractor1)\n",
    "    Flux.reset!(m.extractor2)\n",
    "    Flux.reset!(m.comparator)\n",
    "end\n",
    "\n",
    "Flux.@functor SemSim (embedder, extractor, comparator)"
   ]
  },
  {
   "cell_type": "markdown",
   "id": "4d32980b",
   "metadata": {},
   "source": [
    "# Uczenie (dla cierpliwych)\n",
    "Potrzeba ~15 min na CPU (MacBook M1).\n",
    "\n",
    "Proces uczenia będzie co jakiś czas zapisywał model do pliku.\n",
    "\n",
    "Gradient liczony jest na batchach po 100 przykładów.\n",
    "\n",
    "Dodałem regularyzację wag L2."
   ]
  },
  {
   "cell_type": "code",
   "execution_count": 28,
   "id": "aa3694a0",
   "metadata": {},
   "outputs": [
    {
     "data": {
      "text/plain": [
       "train (generic function with 1 method)"
      ]
     },
     "execution_count": 28,
     "metadata": {},
     "output_type": "execute_result"
    }
   ],
   "source": [
    "function train(traindata, testdata)\n",
    "    traindata = DataLoader(traindata, shuffle=true, batchsize=100)\n",
    "    testdata = zip(testdata...) |> collect\n",
    "    \n",
    "    m = SemSim() |> gpu\n",
    "    ps = params(m)\n",
    "\n",
    "    sqnorm(x) = sum(abs2, x)\n",
    "    penalty() = sum(sqnorm, ps) / 20000\n",
    "    loss(xs, ys) = sum(logitcrossentropy(m(x), y) for (x, y) = zip(xs, ys)) / length(xs) + penalty()\n",
    "    \n",
    "    opt = ADAM(0.01)\n",
    "    \n",
    "    function eval(dat)\n",
    "        @info \"Evaluating...\"\n",
    "        good = 0\n",
    "        for (x, y) = dat\n",
    "            yp = m(x)\n",
    "            if onecold(yp) == onecold(y)\n",
    "                good += 1\n",
    "            end\n",
    "        end\n",
    "        acc = good / length(dat) * 100\n",
    "        @info \"acc = $acc%\"\n",
    "\n",
    "        @save \"data/semsim-$(round(Int, acc)).bson\" m opt\n",
    "    end\n",
    "\n",
    "    evalcb = throttle(() -> eval(rand(testdata, 2000)), 60)\n",
    "\n",
    "    while true\n",
    "        Flux.train!(loss, ps, traindata, opt, cb = evalcb)\n",
    "    end\n",
    "end"
   ]
  },
  {
   "cell_type": "markdown",
   "id": "19597752",
   "metadata": {},
   "source": [
    "# Dane uczące/testujące\n",
    "1. Ładuję klastry.\n",
    "2. Wybieram 25% klastrów jako dane testujące.\n",
    "3. Niezależnie dla klastrów uczących i testujących tworzę pary napisów.\n",
    "\n",
    "Dzięki temu mamy całkowicie niezależne dane uczące i testujące.\n",
    "\n",
    "W każdym zbiorze mamy równy rozkład przykładów dla każdej klasy."
   ]
  },
  {
   "cell_type": "code",
   "execution_count": 29,
   "id": "9f094feb",
   "metadata": {},
   "outputs": [
    {
     "data": {
      "text/plain": [
       "(101254, 41828)"
      ]
     },
     "execution_count": 29,
     "metadata": {},
     "output_type": "execute_result"
    }
   ],
   "source": [
    "seed!(42)\n",
    "\n",
    "clusters = loadclusters()\n",
    "shuffle!(clusters)\n",
    "testclusters = clusters[1:div(end, 4)]\n",
    "trainclusters = clusters[div(end, 4) + 1 : end]\n",
    "\n",
    "traindata = encodedata(trainclusters)\n",
    "testdata = encodedata(testclusters)\n",
    "\n",
    "length.((traindata[2], testdata[2]))"
   ]
  },
  {
   "cell_type": "markdown",
   "id": "06651e17",
   "metadata": {},
   "source": [
    "Dla odważnych. Można włączyć uczenie."
   ]
  },
  {
   "cell_type": "code",
   "execution_count": 30,
   "id": "721b0349",
   "metadata": {},
   "outputs": [],
   "source": [
    "# train(traindata, testdata)"
   ]
  },
  {
   "cell_type": "markdown",
   "id": "c0d5a966",
   "metadata": {},
   "source": [
    "Lepiej jednak wykorzystać model, który już nauczyłem."
   ]
  },
  {
   "cell_type": "code",
   "execution_count": 31,
   "id": "4aefcb55",
   "metadata": {},
   "outputs": [],
   "source": [
    "mpath = \"data/semsim-95.bson\"\n",
    "@load mpath m opt"
   ]
  },
  {
   "cell_type": "markdown",
   "id": "b5f32419",
   "metadata": {},
   "source": [
    "# Ocena dokładności modelu\n",
    "Uruchamiamy model na danych testujących.\n",
    "Trochę to zajmuje czasu."
   ]
  },
  {
   "cell_type": "code",
   "execution_count": 32,
   "id": "0788bd84",
   "metadata": {},
   "outputs": [
    {
     "name": "stderr",
     "output_type": "stream",
     "text": [
      "┌ Info: acc = 95.0%\n",
      "└ @ Main In[32]:11\n"
     ]
    }
   ],
   "source": [
    "begin\n",
    "    good = 0\n",
    "    data = zip(testdata...) |> collect\n",
    "    for (x, y) = data\n",
    "        yp = m(x)\n",
    "        if onecold(yp) == onecold(y)\n",
    "            good += 1\n",
    "        end\n",
    "    end\n",
    "    acc = round(good / length(data) * 100, digits=2)\n",
    "    @info \"acc = $acc%\"\n",
    "end"
   ]
  },
  {
   "cell_type": "markdown",
   "id": "5043dc8b",
   "metadata": {},
   "source": [
    "Dokładność: 95%\n",
    "\n",
    "Brzmi aż za dobrze. Jednak faktycznie, model nauczył\n",
    "się tak dobrze klasyfikować dane, których nigdy nie widział.\n",
    "\n",
    "Czy na pewno jest tak \"mądry\"?"
   ]
  },
  {
   "cell_type": "code",
   "execution_count": 33,
   "id": "9be4e0d0",
   "metadata": {},
   "outputs": [
    {
     "data": {
      "text/plain": [
       "false"
      ]
     },
     "execution_count": 33,
     "metadata": {},
     "output_type": "execute_result"
    }
   ],
   "source": [
    "classify(m, \"Politechnika Krakowska\", \"Krakowska Politechnika\")"
   ]
  },
  {
   "cell_type": "code",
   "execution_count": 34,
   "id": "175ab4e4",
   "metadata": {},
   "outputs": [
    {
     "data": {
      "text/plain": [
       "false"
      ]
     },
     "execution_count": 34,
     "metadata": {},
     "output_type": "execute_result"
    }
   ],
   "source": [
    "classify(m, \"Politechnika Krakowska\", \"olitechnika Krakowska\")"
   ]
  },
  {
   "cell_type": "code",
   "execution_count": 35,
   "id": "f52707fa",
   "metadata": {},
   "outputs": [
    {
     "data": {
      "text/plain": [
       "true"
      ]
     },
     "execution_count": 35,
     "metadata": {},
     "output_type": "execute_result"
    }
   ],
   "source": [
    "classify(m, \"Politechnika Krakowska\", \"Bolitechnika Krakowska\")"
   ]
  },
  {
   "cell_type": "code",
   "execution_count": 36,
   "id": "b293c2ee",
   "metadata": {},
   "outputs": [
    {
     "data": {
      "text/plain": [
       "true"
      ]
     },
     "execution_count": 36,
     "metadata": {},
     "output_type": "execute_result"
    }
   ],
   "source": [
    "classify(m, \"Politechnika Krakowska\", \"Palitechnika Krakowska\")"
   ]
  },
  {
   "cell_type": "code",
   "execution_count": 37,
   "id": "049156e4",
   "metadata": {},
   "outputs": [
    {
     "data": {
      "text/plain": [
       "true"
      ]
     },
     "execution_count": 37,
     "metadata": {},
     "output_type": "execute_result"
    }
   ],
   "source": [
    "classify(m, \"Politechnika Krakowska\", \"Politechnika\")"
   ]
  },
  {
   "cell_type": "code",
   "execution_count": 38,
   "id": "309e6819",
   "metadata": {},
   "outputs": [
    {
     "data": {
      "text/plain": [
       "true"
      ]
     },
     "execution_count": 38,
     "metadata": {},
     "output_type": "execute_result"
    }
   ],
   "source": [
    "classify(m, \"Politechnika Krakowska\", \"Politec Gdanska\")"
   ]
  },
  {
   "cell_type": "code",
   "execution_count": 39,
   "id": "e41b6b87",
   "metadata": {},
   "outputs": [
    {
     "data": {
      "text/plain": [
       "true"
      ]
     },
     "execution_count": 39,
     "metadata": {},
     "output_type": "execute_result"
    }
   ],
   "source": [
    "classify(m, \"Kramowska\", \"Krakowska\")"
   ]
  },
  {
   "cell_type": "code",
   "execution_count": 40,
   "id": "dfd87381",
   "metadata": {},
   "outputs": [
    {
     "data": {
      "text/plain": [
       "false"
      ]
     },
     "execution_count": 40,
     "metadata": {},
     "output_type": "execute_result"
    }
   ],
   "source": [
    "classify(m, \"Kakowska\", \"Krakowska\")"
   ]
  },
  {
   "cell_type": "markdown",
   "id": "76402a07",
   "metadata": {},
   "source": [
    "Widać, że model głównie patrzy na kilka pierwszych znaków.\n",
    "\n",
    "Najwyraźniej dla danych jakie miałem, wystarcza to do osiągnięcia takiej dokładności.\n",
    "\n",
    "Bez trudniejszych przykładów w danych nie nauczymy lepszego modelu.\n",
    "\n",
    "Jednak jeśli kryterium jakości jest klasteryzacja pliku clusters.txt,\n",
    "model sprawdza się bardzo dobrze."
   ]
  }
 ],
 "metadata": {
  "kernelspec": {
   "display_name": "Julia 1.7.3",
   "language": "julia",
   "name": "julia-1.7"
  },
  "language_info": {
   "file_extension": ".jl",
   "mimetype": "application/julia",
   "name": "julia",
   "version": "1.7.3"
  }
 },
 "nbformat": 4,
 "nbformat_minor": 5
}
