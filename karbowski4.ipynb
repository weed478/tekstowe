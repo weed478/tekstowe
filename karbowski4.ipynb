{
 "cells": [
  {
   "cell_type": "markdown",
   "id": "f4945187",
   "metadata": {},
   "source": [
    "# Lewensztain\n",
    "Jakub Karbowski"
   ]
  },
  {
   "cell_type": "code",
   "execution_count": 19,
   "id": "3843aefc",
   "metadata": {},
   "outputs": [
    {
     "name": "stderr",
     "output_type": "stream",
     "text": [
      "\u001b[32m\u001b[1m   Resolving\u001b[22m\u001b[39m package versions...\n",
      "\u001b[32m\u001b[1m  No Changes\u001b[22m\u001b[39m to `~/.julia/environments/v1.7/Project.toml`\n",
      "\u001b[32m\u001b[1m  No Changes\u001b[22m\u001b[39m to `~/.julia/environments/v1.7/Manifest.toml`\n"
     ]
    }
   ],
   "source": [
    "import Pkg\n",
    "Pkg.add([\n",
    "    \"WordTokenizers\",\n",
    "])\n",
    "\n",
    "using Random: seed!\n",
    "using WordTokenizers: tokenize"
   ]
  },
  {
   "cell_type": "markdown",
   "id": "5ec88e65",
   "metadata": {},
   "source": [
    "# Edit distance\n",
    "Algorytm dynamiczny.\n",
    "\n",
    "Złożoność: $O(|x| \\cdot |y|)$.\n",
    "\n",
    "Pamięć: $O(|x| \\cdot |y|)$.\n",
    "\n",
    "Zmiany oznaczane są następująco:\n",
    "\n",
    "- ```[-a]``` usunięcie 'a'\n",
    "\n",
    "- ```[+a]``` dodanie 'a'\n",
    "\n",
    "- ```[a->b]``` zamiana 'a' na 'b'"
   ]
  },
  {
   "cell_type": "code",
   "execution_count": 20,
   "id": "c2c50236",
   "metadata": {},
   "outputs": [
    {
     "name": "stdout",
     "output_type": "stream",
     "text": [
      "le[v->w]enshtein\n",
      "lewens[h->z]tein\n",
      "lewenszt[e->a]in\n"
     ]
    },
    {
     "data": {
      "text/plain": [
       "3"
      ]
     },
     "execution_count": 20,
     "metadata": {},
     "output_type": "execute_result"
    }
   ],
   "source": [
    "function edit(t1, t2; visualize=true, delta=((x, y) -> x == y ? 0 : 1))\n",
    "    UP = 1\n",
    "    LEFT = 2\n",
    "    UPLEFT = 3\n",
    "    \n",
    "    n1 = length(t1)\n",
    "    n2 = length(t2)\n",
    "\n",
    "    f = zeros(Int, n1 + 1, n2 + 1)\n",
    "    f[1:end, 1] = 0:n1\n",
    "    f[1, 1:end] = 0:n2\n",
    "    \n",
    "    parents = zero(f)\n",
    "    parents[1:end, 1] .= UP\n",
    "    parents[1, 1:end] .= LEFT\n",
    "    parents[1, 1] = 0\n",
    "    \n",
    "    for i = 2:n1+1, j = 2:n2+1\n",
    "        up = f[i-1, j] + 1\n",
    "        left = f[i, j-1] + 1\n",
    "        upleft = f[i-1, j-1] + delta(t1[i-1], t2[j-1])\n",
    "\n",
    "        f[i, j] = min(up, left, upleft)\n",
    "        \n",
    "        # pamiętanie ścieżki w grafie\n",
    "        parents[i, j] =\n",
    "            if f[i, j] == up\n",
    "                UP\n",
    "            elseif f[i, j] == left\n",
    "                LEFT\n",
    "            else\n",
    "                UPLEFT\n",
    "            end\n",
    "    end\n",
    "    \n",
    "    function backtrack(i, j)\n",
    "        if parents[i, j] == UP\n",
    "            backtrack(i - 1, j)\n",
    "            println(\"$(t2[1:j-1])[-$(t1[i-1])]$(t1[i:end])\")\n",
    "        elseif parents[i, j] == LEFT\n",
    "            backtrack(i, j - 1)\n",
    "            println(\"$(t2[1:j-2])[+$(t2[j-1])]$(t1[i:end])\")\n",
    "        elseif parents[i, j] == UPLEFT\n",
    "            backtrack(i - 1, j - 1)\n",
    "            if f[i, j] != f[i - 1, j - 1]\n",
    "                println(\"$(t2[1:j-2])[$(t1[i-1])->$(t2[j-1])]$(t1[i:end])\")\n",
    "            end\n",
    "        end\n",
    "    end\n",
    "    \n",
    "    visualize && backtrack(n1+1, n2+1)\n",
    "    \n",
    "    f[end, end]\n",
    "end\n",
    "\n",
    "edit(\"levenshtein\", \"lewensztain\")"
   ]
  },
  {
   "cell_type": "code",
   "execution_count": 21,
   "id": "6654dca5",
   "metadata": {},
   "outputs": [
    {
     "name": "stdout",
     "output_type": "stream",
     "text": [
      "[+k]los\n",
      "klo[s->c]\n"
     ]
    },
    {
     "data": {
      "text/plain": [
       "2"
      ]
     },
     "execution_count": 21,
     "metadata": {},
     "output_type": "execute_result"
    }
   ],
   "source": [
    "edit(\"los\", \"kloc\")"
   ]
  },
  {
   "cell_type": "code",
   "execution_count": 22,
   "id": "e9261e56",
   "metadata": {},
   "outputs": [
    {
     "name": "stdout",
     "output_type": "stream",
     "text": [
      "[k->q]wintesencja\n",
      "q[w->u]intesencja\n",
      "quintes[+s]encja\n",
      "quintessenc[j->e]a\n",
      "quintessence[-a]\n"
     ]
    },
    {
     "data": {
      "text/plain": [
       "5"
      ]
     },
     "execution_count": 22,
     "metadata": {},
     "output_type": "execute_result"
    }
   ],
   "source": [
    "edit(\"kwintesencja\", \"quintessence\")"
   ]
  },
  {
   "cell_type": "code",
   "execution_count": 23,
   "id": "782e8e16",
   "metadata": {},
   "outputs": [
    {
     "name": "stdout",
     "output_type": "stream",
     "text": [
      "ATGA[A->G]TCTTACCGCCTCG\n",
      "ATGAG[T->G]CTTACCGCCTCG\n",
      "ATGAGGCT[+C]TACCGCCTCG\n",
      "ATGAGGCTCT[A->G]CCGCCTCG\n",
      "ATGAGGCTCTG[+G]CCGCCTCG\n",
      "ATGAGGCTCTGGCC[-G]CCTCG\n",
      "ATGAGGCTCTGGCCCCT[-C]G\n"
     ]
    },
    {
     "data": {
      "text/plain": [
       "7"
      ]
     },
     "execution_count": 23,
     "metadata": {},
     "output_type": "execute_result"
    }
   ],
   "source": [
    "edit(\"ATGAATCTTACCGCCTCG\", \"ATGAGGCTCTGGCCCCTG\")"
   ]
  },
  {
   "cell_type": "markdown",
   "id": "4adb2aa1",
   "metadata": {},
   "source": [
    "# Podciąg"
   ]
  },
  {
   "cell_type": "code",
   "execution_count": 24,
   "id": "1e830402",
   "metadata": {},
   "outputs": [
    {
     "data": {
      "text/plain": [
       "4.0"
      ]
     },
     "execution_count": 24,
     "metadata": {},
     "output_type": "execute_result"
    }
   ],
   "source": [
    "lcs(x, y) = (\n",
    "    length(x) + \n",
    "    length(y) -\n",
    "    edit(x, y,\n",
    "         visualize=false,\n",
    "         delta=(x, y) -> x == y ? 0 : 2)\n",
    "    ) / 2\n",
    "\n",
    "lcs(\"cbabac\", \"abcabba\")"
   ]
  },
  {
   "cell_type": "code",
   "execution_count": 25,
   "id": "685b56ee",
   "metadata": {},
   "outputs": [
    {
     "name": "stdout",
     "output_type": "stream",
     "text": [
      "All tokens = 2191\n",
      "Tokens 1   = 2128\n",
      "Tokens 2   = 2115\n"
     ]
    },
    {
     "data": {
      "text/plain": [
       "2054.0"
      ]
     },
     "execution_count": 25,
     "metadata": {},
     "output_type": "execute_result"
    }
   ],
   "source": [
    "text = join(readlines(\"data/romeo-i-julia-700.txt\"), '\\n')\n",
    "\n",
    "# podział na słowa\n",
    "toksfull = tokenize(text)\n",
    "seed!(42)\n",
    "toks1 = [t for t=toksfull if rand(0:100) >= 3]\n",
    "toks2 = [t for t=toksfull if rand(0:100) >= 3]\n",
    "\n",
    "println(\"All tokens = $(length(toksfull))\")\n",
    "println(\"Tokens 1   = $(length(toks1))\")\n",
    "println(\"Tokens 2   = $(length(toks2))\")\n",
    "\n",
    "lcs(toks1, toks2)"
   ]
  },
  {
   "cell_type": "markdown",
   "id": "91ca9ab3",
   "metadata": {},
   "source": [
    "# Diff\n",
    "Stworzone narzędzie jest prawie identyczne do prawdziwego ```diff```:\n",
    "\n",
    "- ```NaM``` dodanie linii M z pliku 2 za linię N w pliku 1\n",
    "\n",
    "- ```NdM``` linia N w pliku 1 została usunięta, kursor w pliku 2 jest na linii M\n",
    "\n",
    "- ```NcM``` zamiana linii N w pliku 1 na linię M z pliku 2\n",
    "\n",
    "Jedyna różnica to brak grupowania sąsiednich operacji."
   ]
  },
  {
   "cell_type": "code",
   "execution_count": 26,
   "id": "c7a37d0e",
   "metadata": {},
   "outputs": [
    {
     "name": "stdout",
     "output_type": "stream",
     "text": [
      "1a2\n",
      ">                                     USTAWA\n",
      "3c4\n",
      "<          o zryczałtowanym podatku dochodowym od niektórych przychodów\n",
      "---\n",
      ">                         osiąganych przez osoby fizyczne\n",
      "11d11\n",
      "<   gospodarczej opłacają zryczałtowany podatek dochodowy w formie:\n",
      "12a13\n",
      ">    2) karty podatkowej.\n",
      "15c16\n",
      "<   ewidencjonowanych oraz zryczałtowanego podatku dochodowego od przychodów\n",
      "---\n",
      "> 3. Wpływy z podatku dochodowego opłacanego w formie ryczałtu od przychodów\n",
      "15a17\n",
      ">   osób duchownych stanowią dochód budżetu państwa.\n"
     ]
    }
   ],
   "source": [
    "function diff(f1, f2)\n",
    "    delta(x, y) = x == y ? 0 : 1\n",
    "    \n",
    "    t1 = readlines(f1)\n",
    "    t2 = readlines(f2)\n",
    "    \n",
    "    # kod skopiowany z funkcji edit,\n",
    "    # można wyciągnąć część wspólną\n",
    "    # ale wolę już nie psuć\n",
    "    \n",
    "    UP = 1\n",
    "    LEFT = 2\n",
    "    UPLEFT = 3\n",
    "    \n",
    "    n1 = length(t1)\n",
    "    n2 = length(t2)\n",
    "\n",
    "    f = zeros(Int, n1 + 1, n2 + 1)\n",
    "    f[1:end, 1] = 0:n1\n",
    "    f[1, 1:end] = 0:n2\n",
    "    \n",
    "    parents = zero(f)\n",
    "    parents[1:end, 1] .= UP\n",
    "    parents[1, 1:end] .= LEFT\n",
    "    parents[1, 1] = 0\n",
    "    \n",
    "    for i = 2:n1+1, j = 2:n2+1\n",
    "        up = f[i-1, j] + 1\n",
    "        left = f[i, j-1] + 1\n",
    "        upleft = f[i-1, j-1] + delta(t1[i-1], t2[j-1])\n",
    "\n",
    "        f[i, j] = min(up, left, upleft)\n",
    "        \n",
    "        parents[i, j] =\n",
    "            if f[i, j] == up\n",
    "                UP\n",
    "            elseif f[i, j] == left\n",
    "                LEFT\n",
    "            else\n",
    "                UPLEFT\n",
    "            end\n",
    "    end\n",
    "    \n",
    "    # jedyna różnica, inne printy\n",
    "    function backtrack(i, j)\n",
    "        if parents[i, j] == UP\n",
    "            backtrack(i - 1, j)\n",
    "            println(\"$(i-1)d$(j-1)\")\n",
    "            println(\"< $(t1[i-1])\")\n",
    "        elseif parents[i, j] == LEFT\n",
    "            backtrack(i, j - 1)\n",
    "            println(\"$(i-1)a$(j-1)\")\n",
    "            println(\"> $(t2[j-1])\")\n",
    "        elseif parents[i, j] == UPLEFT\n",
    "            backtrack(i - 1, j - 1)\n",
    "            if f[i, j] != f[i - 1, j - 1]\n",
    "                println(\"$(i-1)c$(j-1)\")\n",
    "                println(\"< $(t1[i-1])\")\n",
    "                println(\"---\")\n",
    "                println(\"> $(t2[j-1])\")\n",
    "            end\n",
    "        end\n",
    "    end\n",
    "    \n",
    "    backtrack(n1+1, n2+1)\n",
    "end\n",
    "\n",
    "diff(\"data/diff1\", \"data/diff2\")"
   ]
  },
  {
   "cell_type": "markdown",
   "id": "28ee64e8",
   "metadata": {},
   "source": [
    "## Prawdziwy diff:\n",
    "```\n",
    "1a2\n",
    ">                                     USTAWA\n",
    "3c4\n",
    "<          o zryczałtowanym podatku dochodowym od niektórych przychodów\n",
    "---\n",
    ">                         osiąganych przez osoby fizyczne\n",
    "11d11\n",
    "<   gospodarczej opłacają zryczałtowany podatek dochodowy w formie:\n",
    "12a13\n",
    ">    2) karty podatkowej.\n",
    "15c16,17                    <- tutaj widać różnicę (grupowanie)\n",
    "<   ewidencjonowanych oraz zryczałtowanego podatku dochodowego od przychodów\n",
    "---\n",
    "> 3. Wpływy z podatku dochodowego opłacanego w formie ryczałtu od przychodów\n",
    ">   osób duchownych stanowią dochód budżetu państwa.\n",
    "```"
   ]
  },
  {
   "cell_type": "code",
   "execution_count": 33,
   "id": "7e6cc20a",
   "metadata": {},
   "outputs": [
    {
     "name": "stdout",
     "output_type": "stream",
     "text": [
      "33c33\n",
      "< * Obywatele weroneńscy , różne osoby płci obojej , liczący się do przyjaciół obu domów , maski , straż wojskowa i inne osoby .\n",
      "---\n",
      "> * Obywatele weroneńscy , różne osoby płci obojej , liczący się przyjaciół obu domów , maski , straż wojskowa i inne osoby .\n",
      "58c58\n",
      "< Aż ją dzieci zgon przedwczesny ,\n",
      "---\n",
      "> Aż ją zakończy dzieci zgon przedwczesny ,\n",
      "77d76\n",
      "< \n",
      "115a115\n",
      "> SAMSON\n",
      "152c152\n",
      "< Tym lepiej , że się liczysz do zwierząt ; bo gdybyś się liczył do ryb , to byłbyś pewnie sztokfiszem. Weź no się za instrument , bo oto nadchodzi dwóch domowników Montekiego .\n",
      "---\n",
      "> Tym lepiej , że się liczysz do zwierząt ; bo gdybyś się liczył do ryb , to byłbyś pewnie sztokfiszem. Weź no się za , bo oto nadchodzi dwóch domowników Montekiego .\n",
      "286a287\n",
      "> Do mnie , Benwolio ! pilnuj swego życia .\n",
      "368c369\n",
      "< Wzniecicie kiedyś podobną ,\n",
      "---\n",
      "> Wzniecicie kiedyś waśń podobną ,\n",
      "452a454\n",
      "> BENWOLIO\n",
      "568a571\n",
      "> Nad czym , poczciwa duszo ?\n",
      "622c625\n",
      "< Tylko mi klucz dać do tego problemu ,\n",
      "---\n",
      "> Tylko mi dać do tego problemu ,\n"
     ]
    }
   ],
   "source": [
    "lines = readlines(\"data/romeo-i-julia-700.txt\")\n",
    "seed!(42)\n",
    "lines1 = [join([t for t=tokenize(l) if rand(1:1000) != 1], ' ') for l=lines if rand(1:500) != 1]\n",
    "lines2 = [join([t for t=tokenize(l) if rand(1:1000) != 1], ' ') for l=lines if rand(1:500) != 1]\n",
    "\n",
    "write(\"data/rom1\", join(lines1, '\\n'))\n",
    "write(\"data/rom2\", join(lines2, '\\n'))\n",
    "\n",
    "diff(\"data/rom1\", \"data/rom2\")"
   ]
  },
  {
   "cell_type": "markdown",
   "id": "881ad151",
   "metadata": {},
   "source": [
    "## Prawdziwy diff:\n",
    "```\n",
    "33c33\n",
    "< * Obywatele weroneńscy , różne osoby płci obojej , liczący się do przyjaciół obu domów , maski , straż wojskowa i inne osoby .\n",
    "---\n",
    "> * Obywatele weroneńscy , różne osoby płci obojej , liczący się przyjaciół obu domów , maski , straż wojskowa i inne osoby .\n",
    "58c58\n",
    "< Aż ją dzieci zgon przedwczesny ,\n",
    "---\n",
    "> Aż ją zakończy dzieci zgon przedwczesny ,\n",
    "77d76\n",
    "<\n",
    "115a115\n",
    "> SAMSON\n",
    "152c152\n",
    "< Tym lepiej , że się liczysz do zwierząt ; bo gdybyś się liczył do ryb , to byłbyś pewnie sztokfiszem. Weź no się za instrument , bo oto nadchodzi dwóch domowników Montekiego .\n",
    "---\n",
    "> Tym lepiej , że się liczysz do zwierząt ; bo gdybyś się liczył do ryb , to byłbyś pewnie sztokfiszem. Weź no się za , bo oto nadchodzi dwóch domowników Montekiego .\n",
    "286a287\n",
    "> Do mnie , Benwolio ! pilnuj swego życia .\n",
    "368c369\n",
    "< Wzniecicie kiedyś podobną ,\n",
    "---\n",
    "> Wzniecicie kiedyś waśń podobną ,\n",
    "452a454\n",
    "> BENWOLIO\n",
    "568a571\n",
    "> Nad czym , poczciwa duszo ?\n",
    "622c625\n",
    "< Tylko mi klucz dać do tego problemu ,\n",
    "---\n",
    "> Tylko mi dać do tego problemu ,\n",
    "```"
   ]
  },
  {
   "cell_type": "markdown",
   "id": "a590f831",
   "metadata": {},
   "source": [
    "# Wnioski (rezultaty?)\n",
    "\n",
    "Bardzo ładnie pokazywany jest ciąg operacji\n",
    "do zamiany jednego tekstu na drugi (funkcja ```edit```).\n",
    "\n",
    "Stworzone narzędzie działa zgodnie z prawdziwym ```diff```.\n",
    "Zaskakujące jest jak dobrze to działa."
   ]
  }
 ],
 "metadata": {
  "kernelspec": {
   "display_name": "Julia 1.7.3",
   "language": "julia",
   "name": "julia-1.7"
  },
  "language_info": {
   "file_extension": ".jl",
   "mimetype": "application/julia",
   "name": "julia",
   "version": "1.7.3"
  }
 },
 "nbformat": 4,
 "nbformat_minor": 5
}
