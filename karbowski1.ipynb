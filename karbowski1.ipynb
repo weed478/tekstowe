{
 "cells": [
  {
   "cell_type": "markdown",
   "id": "b812f4e1",
   "metadata": {},
   "source": [
    "# Algorytmy tekstowe\n",
    "## Laboratorium 1\n",
    "### Jakub Karbowski"
   ]
  },
  {
   "cell_type": "markdown",
   "id": "1bde2109",
   "metadata": {},
   "source": [
    "# Add packages\n",
    "Lepiej za dużo niż za mało."
   ]
  },
  {
   "cell_type": "code",
   "execution_count": 18,
   "id": "f8766f8a",
   "metadata": {},
   "outputs": [
    {
     "name": "stderr",
     "output_type": "stream",
     "text": [
      "\u001b[32m\u001b[1m   Resolving\u001b[22m\u001b[39m package versions...\n",
      "\u001b[32m\u001b[1m  No Changes\u001b[22m\u001b[39m to `~/.julia/environments/v1.7/Project.toml`\n",
      "\u001b[32m\u001b[1m  No Changes\u001b[22m\u001b[39m to `~/.julia/environments/v1.7/Manifest.toml`\n"
     ]
    }
   ],
   "source": [
    "using Pkg\n",
    "Pkg.add([\n",
    "    \"Plots\",\n",
    "    \"BenchmarkTools\",\n",
    "    \"DataFrames\",\n",
    "    \"Unitful\",\n",
    "])\n",
    "using Plots\n",
    "using BenchmarkTools\n",
    "using DataFrames\n",
    "using Unitful"
   ]
  },
  {
   "cell_type": "code",
   "execution_count": 2,
   "id": "82dc1079",
   "metadata": {},
   "outputs": [
    {
     "data": {
      "text/plain": [
       "1"
      ]
     },
     "execution_count": 2,
     "metadata": {},
     "output_type": "execute_result"
    }
   ],
   "source": [
    "BenchmarkTools.DEFAULT_PARAMETERS.seconds = 1"
   ]
  },
  {
   "cell_type": "markdown",
   "id": "433a86a6",
   "metadata": {},
   "source": [
    "# Read data"
   ]
  },
  {
   "cell_type": "code",
   "execution_count": 3,
   "id": "4eec57a9",
   "metadata": {},
   "outputs": [
    {
     "name": "stdout",
     "output_type": "stream",
     "text": [
      "length(text1) = 19\n",
      "length(text2) = 254133\n",
      "length(text3) = 86438335\n"
     ]
    }
   ],
   "source": [
    "texts = Vector{UInt8}.([\n",
    "    \"ababaabaababbabaabb\",\n",
    "    read(\"data/1997_714.txt\"),\n",
    "    read(\"data/passages-head.tsv\"),\n",
    "])\n",
    "\n",
    "pats = Vector{UInt8}.([\n",
    "    \"abab\",\n",
    "    \"art\",\n",
    "    \"Ukraina\",\n",
    "])\n",
    "\n",
    "for (i, t) = enumerate(texts)\n",
    "    println(\"length(text$i) = $(length(t))\")\n",
    "end"
   ]
  },
  {
   "cell_type": "markdown",
   "id": "b364c5e2",
   "metadata": {},
   "source": [
    "# Naive algorithm"
   ]
  },
  {
   "cell_type": "code",
   "execution_count": 4,
   "id": "9df18c21",
   "metadata": {},
   "outputs": [
    {
     "data": {
      "text/plain": [
       "2-element Vector{Int64}:\n",
       " 1\n",
       " 9"
      ]
     },
     "execution_count": 4,
     "metadata": {},
     "output_type": "execute_result"
    }
   ],
   "source": [
    "naive_find(T, P) = [i for i = 1:length(T)-length(P)+1\n",
    "                      if @views T[i:i+length(P)-1] == P]\n",
    "\n",
    "naive_find(texts[1], pats[1])"
   ]
  },
  {
   "cell_type": "markdown",
   "id": "0a381b35",
   "metadata": {},
   "source": [
    "# FSM"
   ]
  },
  {
   "cell_type": "code",
   "execution_count": 5,
   "id": "34d4ca3d",
   "metadata": {},
   "outputs": [
    {
     "data": {
      "text/plain": [
       "2-element Vector{Any}:\n",
       " 1\n",
       " 9"
      ]
     },
     "execution_count": 5,
     "metadata": {},
     "output_type": "execute_result"
    }
   ],
   "source": [
    "unicat(s::T, c) where T<:AbstractString = s*c\n",
    "unicat(t::T, x) where T<:AbstractVector = [t;x]\n",
    "\n",
    "fsm_init(P) =\n",
    "    (symbols = unique(P);\n",
    "    [ Dict([ s => filter(min(length(P), q+1):-1:0) do k\n",
    "                      @views P[1:k] == unicat(P[1:q], s)[end-k+1:end]\n",
    "                  end |> first\n",
    "           for s=symbols ])\n",
    "    for q=0:length(P) ])\n",
    "\n",
    "fsm_find(T, Q) =\n",
    "    foldl(enumerate(T), init=([], 0)) do (M, q), (i, c)\n",
    "        q = get(Q[q+1], c, 0)\n",
    "        q==length(Q)-1 && push!(M, i+1-q)\n",
    "        M, q\n",
    "    end |> first\n",
    "\n",
    "fsm = fsm_init(pats[1])\n",
    "fsm_find(texts[1], fsm)"
   ]
  },
  {
   "cell_type": "markdown",
   "id": "bc7c5945",
   "metadata": {},
   "source": [
    "# KMP"
   ]
  },
  {
   "cell_type": "code",
   "execution_count": 6,
   "id": "08e22a7f",
   "metadata": {},
   "outputs": [
    {
     "data": {
      "text/plain": [
       "2-element Vector{Any}:\n",
       " 1\n",
       " 9"
      ]
     },
     "execution_count": 6,
     "metadata": {},
     "output_type": "execute_result"
    }
   ],
   "source": [
    "function kmp_init(pat)\n",
    "    pi = [0]\n",
    "    k = 0\n",
    "    for q = 1:length(pat)-1\n",
    "        while k > 0 && pat[k+1] != pat[q+1]\n",
    "            k = pi[k]\n",
    "        end\n",
    "        if pat[k+1] == pat[q+1]\n",
    "            k = k + 1\n",
    "        end\n",
    "        push!(pi, k)\n",
    "    end\n",
    "    pat, pi\n",
    "end\n",
    "\n",
    "function kmp_find(text, (pat, pi))\n",
    "    matches = []\n",
    "    q = 0\n",
    "    for i = 0:length(text)-1\n",
    "        while q > 0 && pat[q+1] != text[i+1]\n",
    "            q = pi[q]\n",
    "        end\n",
    "        if pat[q+1] == text[i+1]\n",
    "            q = q + 1\n",
    "        end\n",
    "        if q == length(pat)\n",
    "            push!(matches, i + 2 - q)\n",
    "            q = pi[q]\n",
    "        end\n",
    "    end\n",
    "    matches\n",
    "end\n",
    "\n",
    "kmp = kmp_init(pats[1])\n",
    "kmp_find(texts[1], kmp)"
   ]
  },
  {
   "cell_type": "markdown",
   "id": "88d5ee2c",
   "metadata": {},
   "source": [
    "# Tests\n",
    "Czy algorytmy dają te samy wyniki?"
   ]
  },
  {
   "cell_type": "code",
   "execution_count": 7,
   "id": "687878e6",
   "metadata": {},
   "outputs": [
    {
     "name": "stdout",
     "output_type": "stream",
     "text": [
      "naive == fsm: true\n",
      "naive == kmp: true\n",
      "fsm   == kmp: true\n"
     ]
    }
   ],
   "source": [
    "naive_matches = []\n",
    "fsm_matches = []\n",
    "kmp_matches = []\n",
    "for (T, P) = zip(texts, pats)\n",
    "    push!(naive_matches, naive_find(T, P))\n",
    "\n",
    "    fsm = fsm_init(P)\n",
    "    push!(fsm_matches, fsm_find(T, fsm))\n",
    "    \n",
    "    kmp = kmp_init(P)\n",
    "    push!(kmp_matches, kmp_find(T, kmp))\n",
    "end\n",
    "\n",
    "println(\"naive == fsm: $(naive_matches == fsm_matches)\")\n",
    "println(\"naive == kmp: $(naive_matches == kmp_matches)\")\n",
    "println(\"fsm   == kmp: $(fsm_matches == kmp_matches)\")"
   ]
  },
  {
   "cell_type": "markdown",
   "id": "b7b3d5cf",
   "metadata": {},
   "source": [
    "# Searching\n",
    "Szukanie zadanych wzorców w tekstach."
   ]
  },
  {
   "cell_type": "markdown",
   "id": "994de392",
   "metadata": {},
   "source": [
    "## Text 2"
   ]
  },
  {
   "cell_type": "code",
   "execution_count": 8,
   "id": "079c7f4a",
   "metadata": {},
   "outputs": [
    {
     "data": {
      "text/plain": [
       "273"
      ]
     },
     "execution_count": 8,
     "metadata": {},
     "output_type": "execute_result"
    }
   ],
   "source": [
    "naive_find(texts[2], pats[2]) |> length"
   ]
  },
  {
   "cell_type": "code",
   "execution_count": 9,
   "id": "5e5d3fcb",
   "metadata": {},
   "outputs": [
    {
     "data": {
      "text/plain": [
       "273"
      ]
     },
     "execution_count": 9,
     "metadata": {},
     "output_type": "execute_result"
    }
   ],
   "source": [
    "fsm_find(texts[2], fsm_init(pats[2])) |> length"
   ]
  },
  {
   "cell_type": "code",
   "execution_count": 10,
   "id": "0fe5bfb2",
   "metadata": {},
   "outputs": [
    {
     "data": {
      "text/plain": [
       "273"
      ]
     },
     "execution_count": 10,
     "metadata": {},
     "output_type": "execute_result"
    }
   ],
   "source": [
    "kmp_find(texts[2], kmp_init(pats[2])) |> length"
   ]
  },
  {
   "cell_type": "markdown",
   "id": "215f0d95",
   "metadata": {},
   "source": [
    "## Text 3"
   ]
  },
  {
   "cell_type": "code",
   "execution_count": 11,
   "id": "669c909d",
   "metadata": {},
   "outputs": [
    {
     "data": {
      "text/plain": [
       "289"
      ]
     },
     "execution_count": 11,
     "metadata": {},
     "output_type": "execute_result"
    }
   ],
   "source": [
    "naive_find(texts[3], pats[3]) |> length"
   ]
  },
  {
   "cell_type": "code",
   "execution_count": 12,
   "id": "b0e6f7df",
   "metadata": {},
   "outputs": [
    {
     "data": {
      "text/plain": [
       "289"
      ]
     },
     "execution_count": 12,
     "metadata": {},
     "output_type": "execute_result"
    }
   ],
   "source": [
    "fsm_find(texts[3], fsm_init(pats[3])) |> length"
   ]
  },
  {
   "cell_type": "code",
   "execution_count": 13,
   "id": "4da4a04f",
   "metadata": {},
   "outputs": [
    {
     "data": {
      "text/plain": [
       "289"
      ]
     },
     "execution_count": 13,
     "metadata": {},
     "output_type": "execute_result"
    }
   ],
   "source": [
    "kmp_find(texts[3], kmp_init(pats[3])) |> length"
   ]
  },
  {
   "cell_type": "markdown",
   "id": "eda49726",
   "metadata": {},
   "source": [
    "# Benchmarks"
   ]
  },
  {
   "cell_type": "code",
   "execution_count": 14,
   "id": "ebdb5fdf",
   "metadata": {},
   "outputs": [],
   "source": [
    "function bench(i)\n",
    "    T, P = texts[i], pats[i]\n",
    "    fsm = fsm_init(P)\n",
    "    kmp = kmp_init(P)\n",
    "    [\n",
    "        (@belapsed naive_find($T, $P))u\"s\",\n",
    "        (@belapsed fsm_init($P))u\"s\",\n",
    "        (@belapsed fsm_find($T, $fsm))u\"s\",\n",
    "        (@belapsed kmp_init($P))u\"s\",\n",
    "        (@belapsed kmp_find($T, $kmp))u\"s\",\n",
    "    ]\n",
    "end\n",
    "times = bench.(eachindex(texts))\n",
    ";"
   ]
  },
  {
   "cell_type": "markdown",
   "id": "f64bec66",
   "metadata": {},
   "source": [
    "## Find benchmark"
   ]
  },
  {
   "cell_type": "code",
   "execution_count": 15,
   "id": "506647cb",
   "metadata": {},
   "outputs": [
    {
     "data": {
      "text/html": [
       "<div class=\"data-frame\"><p>3 rows × 4 columns</p><table class=\"data-frame\"><thead><tr><th></th><th>algo</th><th>text1</th><th>text2</th><th>text3</th></tr><tr><th></th><th title=\"String\">String</th><th title=\"Quantity{Float64, 𝐓, Unitful.FreeUnits{(ms,), 𝐓, nothing}}\">Quantity…</th><th title=\"Quantity{Float64, 𝐓, Unitful.FreeUnits{(ms,), 𝐓, nothing}}\">Quantity…</th><th title=\"Quantity{Float64, 𝐓, Unitful.FreeUnits{(ms,), 𝐓, nothing}}\">Quantity…</th></tr></thead><tbody><tr><th>1</th><td>Naive</td><td>0.0 ms</td><td>1.45 ms</td><td>457.3 ms</td></tr><tr><th>2</th><td>FSM</td><td>0.0 ms</td><td>1.72 ms</td><td>1066.23 ms</td></tr><tr><th>3</th><td>KMP</td><td>0.0 ms</td><td>0.91 ms</td><td>278.33 ms</td></tr></tbody></table></div>"
      ],
      "text/latex": [
       "\\begin{tabular}{r|cccc}\n",
       "\t& algo & text1 & text2 & text3\\\\\n",
       "\t\\hline\n",
       "\t& String & Quantity… & Quantity… & Quantity…\\\\\n",
       "\t\\hline\n",
       "\t1 & Naive & 0.0 ms & 1.45 ms & 457.3 ms \\\\\n",
       "\t2 & FSM & 0.0 ms & 1.72 ms & 1066.23 ms \\\\\n",
       "\t3 & KMP & 0.0 ms & 0.91 ms & 278.33 ms \\\\\n",
       "\\end{tabular}\n"
      ],
      "text/plain": [
       "\u001b[1m3×4 DataFrame\u001b[0m\n",
       "\u001b[1m Row \u001b[0m│\u001b[1m algo   \u001b[0m\u001b[1m text1     \u001b[0m\u001b[1m text2     \u001b[0m\u001b[1m text3      \u001b[0m\n",
       "\u001b[1m     \u001b[0m│\u001b[90m String \u001b[0m\u001b[90m Quantity… \u001b[0m\u001b[90m Quantity… \u001b[0m\u001b[90m Quantity…  \u001b[0m\n",
       "─────┼──────────────────────────────────────────\n",
       "   1 │ Naive      0.0 ms    1.45 ms    457.3 ms\n",
       "   2 │ FSM        0.0 ms    1.72 ms  1066.23 ms\n",
       "   3 │ KMP        0.0 ms    0.91 ms   278.33 ms"
      ]
     },
     "execution_count": 15,
     "metadata": {},
     "output_type": "execute_result"
    }
   ],
   "source": [
    "results = DataFrame([\n",
    "    :algo => [\"Naive\", \"FSM\", \"KMP\"]\n",
    "    [Symbol(\"text$i\") =>\n",
    "        round.(u\"ms\", t[[1,3,5]], digits=2)\n",
    "    for (i, t)=enumerate(times)]\n",
    "])"
   ]
  },
  {
   "cell_type": "markdown",
   "id": "50bf06c7",
   "metadata": {},
   "source": [
    "## Init benchmark"
   ]
  },
  {
   "cell_type": "code",
   "execution_count": 16,
   "id": "eea09c0e",
   "metadata": {},
   "outputs": [
    {
     "data": {
      "text/html": [
       "<div class=\"data-frame\"><p>2 rows × 4 columns</p><table class=\"data-frame\"><thead><tr><th></th><th>algo</th><th>text1</th><th>text2</th><th>text3</th></tr><tr><th></th><th title=\"String\">String</th><th title=\"Quantity{Float64, 𝐓, Unitful.FreeUnits{(μs,), 𝐓, nothing}}\">Quantity…</th><th title=\"Quantity{Float64, 𝐓, Unitful.FreeUnits{(μs,), 𝐓, nothing}}\">Quantity…</th><th title=\"Quantity{Float64, 𝐓, Unitful.FreeUnits{(μs,), 𝐓, nothing}}\">Quantity…</th></tr></thead><tbody><tr><th>1</th><td>FSM</td><td>6.03 μs</td><td>6.03 μs</td><td>30.04 μs</td></tr><tr><th>2</th><td>KMP</td><td>0.1 μs</td><td>0.09 μs</td><td>0.12 μs</td></tr></tbody></table></div>"
      ],
      "text/latex": [
       "\\begin{tabular}{r|cccc}\n",
       "\t& algo & text1 & text2 & text3\\\\\n",
       "\t\\hline\n",
       "\t& String & Quantity… & Quantity… & Quantity…\\\\\n",
       "\t\\hline\n",
       "\t1 & FSM & 6.03 μs & 6.03 μs & 30.04 μs \\\\\n",
       "\t2 & KMP & 0.1 μs & 0.09 μs & 0.12 μs \\\\\n",
       "\\end{tabular}\n"
      ],
      "text/plain": [
       "\u001b[1m2×4 DataFrame\u001b[0m\n",
       "\u001b[1m Row \u001b[0m│\u001b[1m algo   \u001b[0m\u001b[1m text1     \u001b[0m\u001b[1m text2     \u001b[0m\u001b[1m text3     \u001b[0m\n",
       "\u001b[1m     \u001b[0m│\u001b[90m String \u001b[0m\u001b[90m Quantity… \u001b[0m\u001b[90m Quantity… \u001b[0m\u001b[90m Quantity… \u001b[0m\n",
       "─────┼─────────────────────────────────────────\n",
       "   1 │ FSM       6.03 μs    6.03 μs   30.04 μs\n",
       "   2 │ KMP        0.1 μs    0.09 μs    0.12 μs"
      ]
     },
     "execution_count": 16,
     "metadata": {},
     "output_type": "execute_result"
    }
   ],
   "source": [
    "results = DataFrame([\n",
    "    :algo => [\"FSM\", \"KMP\"]\n",
    "    [Symbol(\"text$i\") =>\n",
    "        round.(u\"μs\", t[[2,4]], digits=2)\n",
    "    for (i, t)=enumerate(times)]\n",
    "])\n",
    "\n",
    "# TU POWINNY BYĆ MIKROSEKUNDY\n",
    "# tylko pdf nie umie w unicode (\\mu)"
   ]
  },
  {
   "cell_type": "markdown",
   "id": "8c8bbd71",
   "metadata": {},
   "source": [
    "# Wstępne wnioski\n",
    "Algorytmy od najszybszego do najwolniejszego:\n",
    "- KMP\n",
    "- Naiwny\n",
    "- FSM\n",
    "\n",
    "Prędkość algorytmu naiwnego najprawdopodobniej\n",
    "wynika z optymalizacji wbudowanych funkcji\n",
    "porównywania tablic.\n",
    "\n",
    "Prostota algorytmu KMP (same ify, pętle i indeksowania)\n",
    "sprawia, że skompilowany program jest taki sam\n",
    "jakby napisało się go w C.\n",
    "Moja próba uproszczenia kodu FSM nie przyniosła\n",
    "jednak znaczących zmian. Sugeruje to, że algorytm\n",
    "KMP jest po prostu szybszy.\n",
    "\n",
    "Inicializacja algorytmu KMP jest nieporównywalnie\n",
    "szybsza od FSM (najprawdopodobniej poniżej rozdzielczości\n",
    "zegara)."
   ]
  },
  {
   "cell_type": "markdown",
   "id": "c0ee5e48",
   "metadata": {},
   "source": [
    "# Trudne przypadki"
   ]
  },
  {
   "cell_type": "code",
   "execution_count": 17,
   "id": "10f0ca12",
   "metadata": {},
   "outputs": [
    {
     "data": {
      "image/svg+xml": [
       "<?xml version=\"1.0\" encoding=\"utf-8\"?>\n",
       "<svg xmlns=\"http://www.w3.org/2000/svg\" xmlns:xlink=\"http://www.w3.org/1999/xlink\" width=\"600\" height=\"400\" viewBox=\"0 0 2400 1600\">\n",
       "<defs>\n",
       "  <clipPath id=\"clip600\">\n",
       "    <rect x=\"0\" y=\"0\" width=\"2400\" height=\"1600\"/>\n",
       "  </clipPath>\n",
       "</defs>\n",
       "<path clip-path=\"url(#clip600)\" d=\"\n",
       "M0 1600 L2400 1600 L2400 0 L0 0  Z\n",
       "  \" fill=\"#ffffff\" fill-rule=\"evenodd\" fill-opacity=\"1\"/>\n",
       "<defs>\n",
       "  <clipPath id=\"clip601\">\n",
       "    <rect x=\"480\" y=\"0\" width=\"1681\" height=\"1600\"/>\n",
       "  </clipPath>\n",
       "</defs>\n",
       "<path clip-path=\"url(#clip600)\" d=\"\n",
       "M309.866 1423.18 L2352.76 1423.18 L2352.76 47.2441 L309.866 47.2441  Z\n",
       "  \" fill=\"#ffffff\" fill-rule=\"evenodd\" fill-opacity=\"1\"/>\n",
       "<defs>\n",
       "  <clipPath id=\"clip602\">\n",
       "    <rect x=\"309\" y=\"47\" width=\"2044\" height=\"1377\"/>\n",
       "  </clipPath>\n",
       "</defs>\n",
       "<polyline clip-path=\"url(#clip602)\" style=\"stroke:#000000; stroke-linecap:butt; stroke-linejoin:round; stroke-width:2; stroke-opacity:0.1; fill:none\" points=\"\n",
       "  437.636,1423.18 437.636,47.2441 \n",
       "  \"/>\n",
       "<polyline clip-path=\"url(#clip602)\" style=\"stroke:#000000; stroke-linecap:butt; stroke-linejoin:round; stroke-width:2; stroke-opacity:0.1; fill:none\" points=\"\n",
       "  723.155,1423.18 723.155,47.2441 \n",
       "  \"/>\n",
       "<polyline clip-path=\"url(#clip602)\" style=\"stroke:#000000; stroke-linecap:butt; stroke-linejoin:round; stroke-width:2; stroke-opacity:0.1; fill:none\" points=\"\n",
       "  1008.67,1423.18 1008.67,47.2441 \n",
       "  \"/>\n",
       "<polyline clip-path=\"url(#clip602)\" style=\"stroke:#000000; stroke-linecap:butt; stroke-linejoin:round; stroke-width:2; stroke-opacity:0.1; fill:none\" points=\"\n",
       "  1294.19,1423.18 1294.19,47.2441 \n",
       "  \"/>\n",
       "<polyline clip-path=\"url(#clip602)\" style=\"stroke:#000000; stroke-linecap:butt; stroke-linejoin:round; stroke-width:2; stroke-opacity:0.1; fill:none\" points=\"\n",
       "  1579.71,1423.18 1579.71,47.2441 \n",
       "  \"/>\n",
       "<polyline clip-path=\"url(#clip602)\" style=\"stroke:#000000; stroke-linecap:butt; stroke-linejoin:round; stroke-width:2; stroke-opacity:0.1; fill:none\" points=\"\n",
       "  1865.23,1423.18 1865.23,47.2441 \n",
       "  \"/>\n",
       "<polyline clip-path=\"url(#clip602)\" style=\"stroke:#000000; stroke-linecap:butt; stroke-linejoin:round; stroke-width:2; stroke-opacity:0.1; fill:none\" points=\"\n",
       "  2150.75,1423.18 2150.75,47.2441 \n",
       "  \"/>\n",
       "<polyline clip-path=\"url(#clip600)\" style=\"stroke:#000000; stroke-linecap:butt; stroke-linejoin:round; stroke-width:4; stroke-opacity:1; fill:none\" points=\"\n",
       "  309.866,1423.18 2352.76,1423.18 \n",
       "  \"/>\n",
       "<polyline clip-path=\"url(#clip600)\" style=\"stroke:#000000; stroke-linecap:butt; stroke-linejoin:round; stroke-width:4; stroke-opacity:1; fill:none\" points=\"\n",
       "  437.636,1423.18 437.636,1404.28 \n",
       "  \"/>\n",
       "<polyline clip-path=\"url(#clip600)\" style=\"stroke:#000000; stroke-linecap:butt; stroke-linejoin:round; stroke-width:4; stroke-opacity:1; fill:none\" points=\"\n",
       "  723.155,1423.18 723.155,1404.28 \n",
       "  \"/>\n",
       "<polyline clip-path=\"url(#clip600)\" style=\"stroke:#000000; stroke-linecap:butt; stroke-linejoin:round; stroke-width:4; stroke-opacity:1; fill:none\" points=\"\n",
       "  1008.67,1423.18 1008.67,1404.28 \n",
       "  \"/>\n",
       "<polyline clip-path=\"url(#clip600)\" style=\"stroke:#000000; stroke-linecap:butt; stroke-linejoin:round; stroke-width:4; stroke-opacity:1; fill:none\" points=\"\n",
       "  1294.19,1423.18 1294.19,1404.28 \n",
       "  \"/>\n",
       "<polyline clip-path=\"url(#clip600)\" style=\"stroke:#000000; stroke-linecap:butt; stroke-linejoin:round; stroke-width:4; stroke-opacity:1; fill:none\" points=\"\n",
       "  1579.71,1423.18 1579.71,1404.28 \n",
       "  \"/>\n",
       "<polyline clip-path=\"url(#clip600)\" style=\"stroke:#000000; stroke-linecap:butt; stroke-linejoin:round; stroke-width:4; stroke-opacity:1; fill:none\" points=\"\n",
       "  1865.23,1423.18 1865.23,1404.28 \n",
       "  \"/>\n",
       "<polyline clip-path=\"url(#clip600)\" style=\"stroke:#000000; stroke-linecap:butt; stroke-linejoin:round; stroke-width:4; stroke-opacity:1; fill:none\" points=\"\n",
       "  2150.75,1423.18 2150.75,1404.28 \n",
       "  \"/>\n",
       "<path clip-path=\"url(#clip600)\" d=\"M401.328 1481.64 L417.647 1481.64 L417.647 1485.58 L395.703 1485.58 L395.703 1481.64 Q398.365 1478.89 402.948 1474.26 Q407.555 1469.61 408.735 1468.27 Q410.981 1465.74 411.86 1464.01 Q412.763 1462.25 412.763 1460.56 Q412.763 1457.8 410.819 1456.07 Q408.897 1454.33 405.796 1454.33 Q403.596 1454.33 401.143 1455.09 Q398.712 1455.86 395.934 1457.41 L395.934 1452.69 Q398.759 1451.55 401.212 1450.97 Q403.666 1450.39 405.703 1450.39 Q411.073 1450.39 414.268 1453.08 Q417.462 1455.77 417.462 1460.26 Q417.462 1462.39 416.652 1464.31 Q415.865 1466.2 413.758 1468.8 Q413.18 1469.47 410.078 1472.69 Q406.976 1475.88 401.328 1481.64 Z\" fill=\"#000000\" fill-rule=\"evenodd\" fill-opacity=\"1\" /><path clip-path=\"url(#clip600)\" d=\"M437.462 1454.1 Q433.851 1454.1 432.022 1457.66 Q430.217 1461.2 430.217 1468.33 Q430.217 1475.44 432.022 1479.01 Q433.851 1482.55 437.462 1482.55 Q441.096 1482.55 442.902 1479.01 Q444.731 1475.44 444.731 1468.33 Q444.731 1461.2 442.902 1457.66 Q441.096 1454.1 437.462 1454.1 M437.462 1450.39 Q443.272 1450.39 446.328 1455 Q449.406 1459.58 449.406 1468.33 Q449.406 1477.06 446.328 1481.67 Q443.272 1486.25 437.462 1486.25 Q431.652 1486.25 428.573 1481.67 Q425.518 1477.06 425.518 1468.33 Q425.518 1459.58 428.573 1455 Q431.652 1450.39 437.462 1450.39 Z\" fill=\"#000000\" fill-rule=\"evenodd\" fill-opacity=\"1\" /><path clip-path=\"url(#clip600)\" d=\"M467.624 1454.1 Q464.013 1454.1 462.184 1457.66 Q460.379 1461.2 460.379 1468.33 Q460.379 1475.44 462.184 1479.01 Q464.013 1482.55 467.624 1482.55 Q471.258 1482.55 473.064 1479.01 Q474.892 1475.44 474.892 1468.33 Q474.892 1461.2 473.064 1457.66 Q471.258 1454.1 467.624 1454.1 M467.624 1450.39 Q473.434 1450.39 476.49 1455 Q479.568 1459.58 479.568 1468.33 Q479.568 1477.06 476.49 1481.67 Q473.434 1486.25 467.624 1486.25 Q461.814 1486.25 458.735 1481.67 Q455.68 1477.06 455.68 1468.33 Q455.68 1459.58 458.735 1455 Q461.814 1450.39 467.624 1450.39 Z\" fill=\"#000000\" fill-rule=\"evenodd\" fill-opacity=\"1\" /><path clip-path=\"url(#clip600)\" d=\"M696.245 1455.09 L684.44 1473.54 L696.245 1473.54 L696.245 1455.09 M695.018 1451.02 L700.898 1451.02 L700.898 1473.54 L705.829 1473.54 L705.829 1477.43 L700.898 1477.43 L700.898 1485.58 L696.245 1485.58 L696.245 1477.43 L680.644 1477.43 L680.644 1472.92 L695.018 1451.02 Z\" fill=\"#000000\" fill-rule=\"evenodd\" fill-opacity=\"1\" /><path clip-path=\"url(#clip600)\" d=\"M723.56 1454.1 Q719.949 1454.1 718.12 1457.66 Q716.315 1461.2 716.315 1468.33 Q716.315 1475.44 718.12 1479.01 Q719.949 1482.55 723.56 1482.55 Q727.194 1482.55 729 1479.01 Q730.828 1475.44 730.828 1468.33 Q730.828 1461.2 729 1457.66 Q727.194 1454.1 723.56 1454.1 M723.56 1450.39 Q729.37 1450.39 732.426 1455 Q735.504 1459.58 735.504 1468.33 Q735.504 1477.06 732.426 1481.67 Q729.37 1486.25 723.56 1486.25 Q717.75 1486.25 714.671 1481.67 Q711.616 1477.06 711.616 1468.33 Q711.616 1459.58 714.671 1455 Q717.75 1450.39 723.56 1450.39 Z\" fill=\"#000000\" fill-rule=\"evenodd\" fill-opacity=\"1\" /><path clip-path=\"url(#clip600)\" d=\"M753.722 1454.1 Q750.111 1454.1 748.282 1457.66 Q746.477 1461.2 746.477 1468.33 Q746.477 1475.44 748.282 1479.01 Q750.111 1482.55 753.722 1482.55 Q757.356 1482.55 759.162 1479.01 Q760.99 1475.44 760.99 1468.33 Q760.99 1461.2 759.162 1457.66 Q757.356 1454.1 753.722 1454.1 M753.722 1450.39 Q759.532 1450.39 762.588 1455 Q765.666 1459.58 765.666 1468.33 Q765.666 1477.06 762.588 1481.67 Q759.532 1486.25 753.722 1486.25 Q747.912 1486.25 744.833 1481.67 Q741.777 1477.06 741.777 1468.33 Q741.777 1459.58 744.833 1455 Q747.912 1450.39 753.722 1450.39 Z\" fill=\"#000000\" fill-rule=\"evenodd\" fill-opacity=\"1\" /><path clip-path=\"url(#clip600)\" d=\"M978.998 1466.44 Q975.85 1466.44 973.998 1468.59 Q972.17 1470.74 972.17 1474.49 Q972.17 1478.22 973.998 1480.39 Q975.85 1482.55 978.998 1482.55 Q982.146 1482.55 983.975 1480.39 Q985.827 1478.22 985.827 1474.49 Q985.827 1470.74 983.975 1468.59 Q982.146 1466.44 978.998 1466.44 M988.281 1451.78 L988.281 1456.04 Q986.521 1455.21 984.716 1454.77 Q982.934 1454.33 981.174 1454.33 Q976.545 1454.33 974.091 1457.45 Q971.66 1460.58 971.313 1466.9 Q972.679 1464.89 974.739 1463.82 Q976.799 1462.73 979.276 1462.73 Q984.484 1462.73 987.494 1465.9 Q990.526 1469.05 990.526 1474.49 Q990.526 1479.82 987.378 1483.03 Q984.23 1486.25 978.998 1486.25 Q973.003 1486.25 969.832 1481.67 Q966.66 1477.06 966.66 1468.33 Q966.66 1460.14 970.549 1455.28 Q974.438 1450.39 980.989 1450.39 Q982.748 1450.39 984.531 1450.74 Q986.336 1451.09 988.281 1451.78 Z\" fill=\"#000000\" fill-rule=\"evenodd\" fill-opacity=\"1\" /><path clip-path=\"url(#clip600)\" d=\"M1008.58 1454.1 Q1004.97 1454.1 1003.14 1457.66 Q1001.34 1461.2 1001.34 1468.33 Q1001.34 1475.44 1003.14 1479.01 Q1004.97 1482.55 1008.58 1482.55 Q1012.22 1482.55 1014.02 1479.01 Q1015.85 1475.44 1015.85 1468.33 Q1015.85 1461.2 1014.02 1457.66 Q1012.22 1454.1 1008.58 1454.1 M1008.58 1450.39 Q1014.39 1450.39 1017.45 1455 Q1020.53 1459.58 1020.53 1468.33 Q1020.53 1477.06 1017.45 1481.67 Q1014.39 1486.25 1008.58 1486.25 Q1002.77 1486.25 999.693 1481.67 Q996.637 1477.06 996.637 1468.33 Q996.637 1459.58 999.693 1455 Q1002.77 1450.39 1008.58 1450.39 Z\" fill=\"#000000\" fill-rule=\"evenodd\" fill-opacity=\"1\" /><path clip-path=\"url(#clip600)\" d=\"M1038.74 1454.1 Q1035.13 1454.1 1033.3 1457.66 Q1031.5 1461.2 1031.5 1468.33 Q1031.5 1475.44 1033.3 1479.01 Q1035.13 1482.55 1038.74 1482.55 Q1042.38 1482.55 1044.18 1479.01 Q1046.01 1475.44 1046.01 1468.33 Q1046.01 1461.2 1044.18 1457.66 Q1042.38 1454.1 1038.74 1454.1 M1038.74 1450.39 Q1044.55 1450.39 1047.61 1455 Q1050.69 1459.58 1050.69 1468.33 Q1050.69 1477.06 1047.61 1481.67 Q1044.55 1486.25 1038.74 1486.25 Q1032.93 1486.25 1029.85 1481.67 Q1026.8 1477.06 1026.8 1468.33 Q1026.8 1459.58 1029.85 1455 Q1032.93 1450.39 1038.74 1450.39 Z\" fill=\"#000000\" fill-rule=\"evenodd\" fill-opacity=\"1\" /><path clip-path=\"url(#clip600)\" d=\"M1263.99 1469.17 Q1260.65 1469.17 1258.73 1470.95 Q1256.83 1472.73 1256.83 1475.86 Q1256.83 1478.98 1258.73 1480.77 Q1260.65 1482.55 1263.99 1482.55 Q1267.32 1482.55 1269.24 1480.77 Q1271.16 1478.96 1271.16 1475.86 Q1271.16 1472.73 1269.24 1470.95 Q1267.34 1469.17 1263.99 1469.17 M1259.31 1467.18 Q1256.3 1466.44 1254.61 1464.38 Q1252.94 1462.32 1252.94 1459.35 Q1252.94 1455.21 1255.88 1452.8 Q1258.85 1450.39 1263.99 1450.39 Q1269.15 1450.39 1272.09 1452.8 Q1275.03 1455.21 1275.03 1459.35 Q1275.03 1462.32 1273.34 1464.38 Q1271.67 1466.44 1268.68 1467.18 Q1272.06 1467.96 1273.94 1470.26 Q1275.84 1472.55 1275.84 1475.86 Q1275.84 1480.88 1272.76 1483.57 Q1269.7 1486.25 1263.99 1486.25 Q1258.27 1486.25 1255.19 1483.57 Q1252.13 1480.88 1252.13 1475.86 Q1252.13 1472.55 1254.03 1470.26 Q1255.93 1467.96 1259.31 1467.18 M1257.6 1459.79 Q1257.6 1462.48 1259.26 1463.98 Q1260.95 1465.49 1263.99 1465.49 Q1266.99 1465.49 1268.68 1463.98 Q1270.4 1462.48 1270.4 1459.79 Q1270.4 1457.11 1268.68 1455.6 Q1266.99 1454.1 1263.99 1454.1 Q1260.95 1454.1 1259.26 1455.6 Q1257.6 1457.11 1257.6 1459.79 Z\" fill=\"#000000\" fill-rule=\"evenodd\" fill-opacity=\"1\" /><path clip-path=\"url(#clip600)\" d=\"M1294.15 1454.1 Q1290.54 1454.1 1288.71 1457.66 Q1286.9 1461.2 1286.9 1468.33 Q1286.9 1475.44 1288.71 1479.01 Q1290.54 1482.55 1294.15 1482.55 Q1297.78 1482.55 1299.59 1479.01 Q1301.42 1475.44 1301.42 1468.33 Q1301.42 1461.2 1299.59 1457.66 Q1297.78 1454.1 1294.15 1454.1 M1294.15 1450.39 Q1299.96 1450.39 1303.01 1455 Q1306.09 1459.58 1306.09 1468.33 Q1306.09 1477.06 1303.01 1481.67 Q1299.96 1486.25 1294.15 1486.25 Q1288.34 1486.25 1285.26 1481.67 Q1282.2 1477.06 1282.2 1468.33 Q1282.2 1459.58 1285.26 1455 Q1288.34 1450.39 1294.15 1450.39 Z\" fill=\"#000000\" fill-rule=\"evenodd\" fill-opacity=\"1\" /><path clip-path=\"url(#clip600)\" d=\"M1324.31 1454.1 Q1320.7 1454.1 1318.87 1457.66 Q1317.06 1461.2 1317.06 1468.33 Q1317.06 1475.44 1318.87 1479.01 Q1320.7 1482.55 1324.31 1482.55 Q1327.94 1482.55 1329.75 1479.01 Q1331.58 1475.44 1331.58 1468.33 Q1331.58 1461.2 1329.75 1457.66 Q1327.94 1454.1 1324.31 1454.1 M1324.31 1450.39 Q1330.12 1450.39 1333.17 1455 Q1336.25 1459.58 1336.25 1468.33 Q1336.25 1477.06 1333.17 1481.67 Q1330.12 1486.25 1324.31 1486.25 Q1318.5 1486.25 1315.42 1481.67 Q1312.36 1477.06 1312.36 1468.33 Q1312.36 1459.58 1315.42 1455 Q1318.5 1450.39 1324.31 1450.39 Z\" fill=\"#000000\" fill-rule=\"evenodd\" fill-opacity=\"1\" /><path clip-path=\"url(#clip600)\" d=\"M1524.24 1481.64 L1531.88 1481.64 L1531.88 1455.28 L1523.57 1456.95 L1523.57 1452.69 L1531.83 1451.02 L1536.51 1451.02 L1536.51 1481.64 L1544.15 1481.64 L1544.15 1485.58 L1524.24 1485.58 L1524.24 1481.64 Z\" fill=\"#000000\" fill-rule=\"evenodd\" fill-opacity=\"1\" /><path clip-path=\"url(#clip600)\" d=\"M1563.59 1454.1 Q1559.98 1454.1 1558.15 1457.66 Q1556.34 1461.2 1556.34 1468.33 Q1556.34 1475.44 1558.15 1479.01 Q1559.98 1482.55 1563.59 1482.55 Q1567.22 1482.55 1569.03 1479.01 Q1570.86 1475.44 1570.86 1468.33 Q1570.86 1461.2 1569.03 1457.66 Q1567.22 1454.1 1563.59 1454.1 M1563.59 1450.39 Q1569.4 1450.39 1572.46 1455 Q1575.53 1459.58 1575.53 1468.33 Q1575.53 1477.06 1572.46 1481.67 Q1569.4 1486.25 1563.59 1486.25 Q1557.78 1486.25 1554.7 1481.67 Q1551.65 1477.06 1551.65 1468.33 Q1551.65 1459.58 1554.7 1455 Q1557.78 1450.39 1563.59 1450.39 Z\" fill=\"#000000\" fill-rule=\"evenodd\" fill-opacity=\"1\" /><path clip-path=\"url(#clip600)\" d=\"M1593.75 1454.1 Q1590.14 1454.1 1588.31 1457.66 Q1586.51 1461.2 1586.51 1468.33 Q1586.51 1475.44 1588.31 1479.01 Q1590.14 1482.55 1593.75 1482.55 Q1597.39 1482.55 1599.19 1479.01 Q1601.02 1475.44 1601.02 1468.33 Q1601.02 1461.2 1599.19 1457.66 Q1597.39 1454.1 1593.75 1454.1 M1593.75 1450.39 Q1599.56 1450.39 1602.62 1455 Q1605.7 1459.58 1605.7 1468.33 Q1605.7 1477.06 1602.62 1481.67 Q1599.56 1486.25 1593.75 1486.25 Q1587.94 1486.25 1584.86 1481.67 Q1581.81 1477.06 1581.81 1468.33 Q1581.81 1459.58 1584.86 1455 Q1587.94 1450.39 1593.75 1450.39 Z\" fill=\"#000000\" fill-rule=\"evenodd\" fill-opacity=\"1\" /><path clip-path=\"url(#clip600)\" d=\"M1623.91 1454.1 Q1620.3 1454.1 1618.47 1457.66 Q1616.67 1461.2 1616.67 1468.33 Q1616.67 1475.44 1618.47 1479.01 Q1620.3 1482.55 1623.91 1482.55 Q1627.55 1482.55 1629.35 1479.01 Q1631.18 1475.44 1631.18 1468.33 Q1631.18 1461.2 1629.35 1457.66 Q1627.55 1454.1 1623.91 1454.1 M1623.91 1450.39 Q1629.72 1450.39 1632.78 1455 Q1635.86 1459.58 1635.86 1468.33 Q1635.86 1477.06 1632.78 1481.67 Q1629.72 1486.25 1623.91 1486.25 Q1618.1 1486.25 1615.02 1481.67 Q1611.97 1477.06 1611.97 1468.33 Q1611.97 1459.58 1615.02 1455 Q1618.1 1450.39 1623.91 1450.39 Z\" fill=\"#000000\" fill-rule=\"evenodd\" fill-opacity=\"1\" /><path clip-path=\"url(#clip600)\" d=\"M1809.76 1481.64 L1817.4 1481.64 L1817.4 1455.28 L1809.09 1456.95 L1809.09 1452.69 L1817.35 1451.02 L1822.03 1451.02 L1822.03 1481.64 L1829.66 1481.64 L1829.66 1485.58 L1809.76 1485.58 L1809.76 1481.64 Z\" fill=\"#000000\" fill-rule=\"evenodd\" fill-opacity=\"1\" /><path clip-path=\"url(#clip600)\" d=\"M1843.14 1481.64 L1859.46 1481.64 L1859.46 1485.58 L1837.51 1485.58 L1837.51 1481.64 Q1840.17 1478.89 1844.76 1474.26 Q1849.36 1469.61 1850.54 1468.27 Q1852.79 1465.74 1853.67 1464.01 Q1854.57 1462.25 1854.57 1460.56 Q1854.57 1457.8 1852.63 1456.07 Q1850.71 1454.33 1847.6 1454.33 Q1845.41 1454.33 1842.95 1455.09 Q1840.52 1455.86 1837.74 1457.41 L1837.74 1452.69 Q1840.57 1451.55 1843.02 1450.97 Q1845.47 1450.39 1847.51 1450.39 Q1852.88 1450.39 1856.08 1453.08 Q1859.27 1455.77 1859.27 1460.26 Q1859.27 1462.39 1858.46 1464.31 Q1857.67 1466.2 1855.57 1468.8 Q1854.99 1469.47 1851.89 1472.69 Q1848.79 1475.88 1843.14 1481.64 Z\" fill=\"#000000\" fill-rule=\"evenodd\" fill-opacity=\"1\" /><path clip-path=\"url(#clip600)\" d=\"M1879.27 1454.1 Q1875.66 1454.1 1873.83 1457.66 Q1872.03 1461.2 1872.03 1468.33 Q1872.03 1475.44 1873.83 1479.01 Q1875.66 1482.55 1879.27 1482.55 Q1882.91 1482.55 1884.71 1479.01 Q1886.54 1475.44 1886.54 1468.33 Q1886.54 1461.2 1884.71 1457.66 Q1882.91 1454.1 1879.27 1454.1 M1879.27 1450.39 Q1885.08 1450.39 1888.14 1455 Q1891.22 1459.58 1891.22 1468.33 Q1891.22 1477.06 1888.14 1481.67 Q1885.08 1486.25 1879.27 1486.25 Q1873.46 1486.25 1870.38 1481.67 Q1867.33 1477.06 1867.33 1468.33 Q1867.33 1459.58 1870.38 1455 Q1873.46 1450.39 1879.27 1450.39 Z\" fill=\"#000000\" fill-rule=\"evenodd\" fill-opacity=\"1\" /><path clip-path=\"url(#clip600)\" d=\"M1909.43 1454.1 Q1905.82 1454.1 1903.99 1457.66 Q1902.19 1461.2 1902.19 1468.33 Q1902.19 1475.44 1903.99 1479.01 Q1905.82 1482.55 1909.43 1482.55 Q1913.07 1482.55 1914.87 1479.01 Q1916.7 1475.44 1916.7 1468.33 Q1916.7 1461.2 1914.87 1457.66 Q1913.07 1454.1 1909.43 1454.1 M1909.43 1450.39 Q1915.24 1450.39 1918.3 1455 Q1921.38 1459.58 1921.38 1468.33 Q1921.38 1477.06 1918.3 1481.67 Q1915.24 1486.25 1909.43 1486.25 Q1903.62 1486.25 1900.54 1481.67 Q1897.49 1477.06 1897.49 1468.33 Q1897.49 1459.58 1900.54 1455 Q1903.62 1450.39 1909.43 1450.39 Z\" fill=\"#000000\" fill-rule=\"evenodd\" fill-opacity=\"1\" /><path clip-path=\"url(#clip600)\" d=\"M2095.28 1481.64 L2102.92 1481.64 L2102.92 1455.28 L2094.61 1456.95 L2094.61 1452.69 L2102.87 1451.02 L2107.55 1451.02 L2107.55 1481.64 L2115.18 1481.64 L2115.18 1485.58 L2095.28 1485.58 L2095.28 1481.64 Z\" fill=\"#000000\" fill-rule=\"evenodd\" fill-opacity=\"1\" /><path clip-path=\"url(#clip600)\" d=\"M2137.48 1455.09 L2125.67 1473.54 L2137.48 1473.54 L2137.48 1455.09 M2136.25 1451.02 L2142.13 1451.02 L2142.13 1473.54 L2147.06 1473.54 L2147.06 1477.43 L2142.13 1477.43 L2142.13 1485.58 L2137.48 1485.58 L2137.48 1477.43 L2121.87 1477.43 L2121.87 1472.92 L2136.25 1451.02 Z\" fill=\"#000000\" fill-rule=\"evenodd\" fill-opacity=\"1\" /><path clip-path=\"url(#clip600)\" d=\"M2164.79 1454.1 Q2161.18 1454.1 2159.35 1457.66 Q2157.54 1461.2 2157.54 1468.33 Q2157.54 1475.44 2159.35 1479.01 Q2161.18 1482.55 2164.79 1482.55 Q2168.42 1482.55 2170.23 1479.01 Q2172.06 1475.44 2172.06 1468.33 Q2172.06 1461.2 2170.23 1457.66 Q2168.42 1454.1 2164.79 1454.1 M2164.79 1450.39 Q2170.6 1450.39 2173.66 1455 Q2176.73 1459.58 2176.73 1468.33 Q2176.73 1477.06 2173.66 1481.67 Q2170.6 1486.25 2164.79 1486.25 Q2158.98 1486.25 2155.9 1481.67 Q2152.85 1477.06 2152.85 1468.33 Q2152.85 1459.58 2155.9 1455 Q2158.98 1450.39 2164.79 1450.39 Z\" fill=\"#000000\" fill-rule=\"evenodd\" fill-opacity=\"1\" /><path clip-path=\"url(#clip600)\" d=\"M2194.95 1454.1 Q2191.34 1454.1 2189.51 1457.66 Q2187.71 1461.2 2187.71 1468.33 Q2187.71 1475.44 2189.51 1479.01 Q2191.34 1482.55 2194.95 1482.55 Q2198.59 1482.55 2200.39 1479.01 Q2202.22 1475.44 2202.22 1468.33 Q2202.22 1461.2 2200.39 1457.66 Q2198.59 1454.1 2194.95 1454.1 M2194.95 1450.39 Q2200.76 1450.39 2203.82 1455 Q2206.9 1459.58 2206.9 1468.33 Q2206.9 1477.06 2203.82 1481.67 Q2200.76 1486.25 2194.95 1486.25 Q2189.14 1486.25 2186.06 1481.67 Q2183.01 1477.06 2183.01 1468.33 Q2183.01 1459.58 2186.06 1455 Q2189.14 1450.39 2194.95 1450.39 Z\" fill=\"#000000\" fill-rule=\"evenodd\" fill-opacity=\"1\" /><path clip-path=\"url(#clip600)\" d=\"M1153.82 1520.52 L1194.02 1520.52 L1194.02 1525.93 L1177.15 1525.93 L1177.15 1568.04 L1170.69 1568.04 L1170.69 1525.93 L1153.82 1525.93 L1153.82 1520.52 Z\" fill=\"#000000\" fill-rule=\"evenodd\" fill-opacity=\"1\" /><path clip-path=\"url(#clip600)\" d=\"M1219.39 1548.76 L1219.39 1551.62 L1192.46 1551.62 Q1192.84 1557.67 1196.09 1560.85 Q1199.37 1564 1205.19 1564 Q1208.56 1564 1211.72 1563.17 Q1214.9 1562.35 1218.02 1560.69 L1218.02 1566.23 Q1214.87 1567.57 1211.56 1568.27 Q1208.25 1568.97 1204.84 1568.97 Q1196.31 1568.97 1191.31 1564 Q1186.35 1559.04 1186.35 1550.57 Q1186.35 1541.82 1191.06 1536.69 Q1195.8 1531.54 1203.82 1531.54 Q1211.01 1531.54 1215.18 1536.18 Q1219.39 1540.8 1219.39 1548.76 M1213.53 1547.04 Q1213.47 1542.23 1210.82 1539.37 Q1208.21 1536.5 1203.89 1536.5 Q1198.98 1536.5 1196.02 1539.27 Q1193.1 1542.04 1192.65 1547.07 L1213.53 1547.04 Z\" fill=\"#000000\" fill-rule=\"evenodd\" fill-opacity=\"1\" /><path clip-path=\"url(#clip600)\" d=\"M1257.48 1532.4 L1244.59 1549.74 L1258.15 1568.04 L1251.25 1568.04 L1240.87 1554.04 L1230.49 1568.04 L1223.59 1568.04 L1237.43 1549.39 L1224.76 1532.4 L1231.67 1532.4 L1241.12 1545.1 L1250.58 1532.4 L1257.48 1532.4 Z\" fill=\"#000000\" fill-rule=\"evenodd\" fill-opacity=\"1\" /><path clip-path=\"url(#clip600)\" d=\"M1272.22 1522.27 L1272.22 1532.4 L1284.28 1532.4 L1284.28 1536.95 L1272.22 1536.95 L1272.22 1556.3 Q1272.22 1560.66 1273.4 1561.9 Q1274.61 1563.14 1278.27 1563.14 L1284.28 1563.14 L1284.28 1568.04 L1278.27 1568.04 Q1271.49 1568.04 1268.91 1565.53 Q1266.33 1562.98 1266.33 1556.3 L1266.33 1536.95 L1262.04 1536.95 L1262.04 1532.4 L1266.33 1532.4 L1266.33 1522.27 L1272.22 1522.27 Z\" fill=\"#000000\" fill-rule=\"evenodd\" fill-opacity=\"1\" /><path clip-path=\"url(#clip600)\" d=\"M1312.71 1518.52 L1318.56 1518.52 L1318.56 1568.04 L1312.71 1568.04 L1312.71 1518.52 Z\" fill=\"#000000\" fill-rule=\"evenodd\" fill-opacity=\"1\" /><path clip-path=\"url(#clip600)\" d=\"M1361.31 1548.76 L1361.31 1551.62 L1334.38 1551.62 Q1334.76 1557.67 1338.01 1560.85 Q1341.29 1564 1347.11 1564 Q1350.49 1564 1353.64 1563.17 Q1356.82 1562.35 1359.94 1560.69 L1359.94 1566.23 Q1356.79 1567.57 1353.48 1568.27 Q1350.17 1568.97 1346.76 1568.97 Q1338.23 1568.97 1333.24 1564 Q1328.27 1559.04 1328.27 1550.57 Q1328.27 1541.82 1332.98 1536.69 Q1337.72 1531.54 1345.75 1531.54 Q1352.94 1531.54 1357.11 1536.18 Q1361.31 1540.8 1361.31 1548.76 M1355.45 1547.04 Q1355.39 1542.23 1352.75 1539.37 Q1350.14 1536.5 1345.81 1536.5 Q1340.91 1536.5 1337.95 1539.27 Q1335.02 1542.04 1334.57 1547.07 L1355.45 1547.04 Z\" fill=\"#000000\" fill-rule=\"evenodd\" fill-opacity=\"1\" /><path clip-path=\"url(#clip600)\" d=\"M1400.55 1546.53 L1400.55 1568.04 L1394.7 1568.04 L1394.7 1546.72 Q1394.7 1541.66 1392.72 1539.14 Q1390.75 1536.63 1386.8 1536.63 Q1382.06 1536.63 1379.32 1539.65 Q1376.59 1542.68 1376.59 1547.9 L1376.59 1568.04 L1370.7 1568.04 L1370.7 1532.4 L1376.59 1532.4 L1376.59 1537.93 Q1378.69 1534.72 1381.52 1533.13 Q1384.38 1531.54 1388.11 1531.54 Q1394.25 1531.54 1397.4 1535.36 Q1400.55 1539.14 1400.55 1546.53 Z\" fill=\"#000000\" fill-rule=\"evenodd\" fill-opacity=\"1\" /><path clip-path=\"url(#clip600)\" d=\"M1435.69 1549.81 Q1435.69 1543.44 1433.05 1539.94 Q1430.44 1536.44 1425.7 1536.44 Q1420.99 1536.44 1418.35 1539.94 Q1415.74 1543.44 1415.74 1549.81 Q1415.74 1556.14 1418.35 1559.64 Q1420.99 1563.14 1425.7 1563.14 Q1430.44 1563.14 1433.05 1559.64 Q1435.69 1556.14 1435.69 1549.81 M1441.55 1563.62 Q1441.55 1572.72 1437.51 1577.15 Q1433.46 1581.6 1425.13 1581.6 Q1422.04 1581.6 1419.3 1581.13 Q1416.56 1580.68 1413.99 1579.72 L1413.99 1574.03 Q1416.56 1575.43 1419.08 1576.1 Q1421.59 1576.76 1424.2 1576.76 Q1429.96 1576.76 1432.83 1573.74 Q1435.69 1570.75 1435.69 1564.67 L1435.69 1561.77 Q1433.88 1564.92 1431.05 1566.48 Q1428.21 1568.04 1424.27 1568.04 Q1417.71 1568.04 1413.7 1563.05 Q1409.69 1558.05 1409.69 1549.81 Q1409.69 1541.53 1413.7 1536.53 Q1417.71 1531.54 1424.27 1531.54 Q1428.21 1531.54 1431.05 1533.1 Q1433.88 1534.66 1435.69 1537.81 L1435.69 1532.4 L1441.55 1532.4 L1441.55 1563.62 Z\" fill=\"#000000\" fill-rule=\"evenodd\" fill-opacity=\"1\" /><path clip-path=\"url(#clip600)\" d=\"M1459.4 1522.27 L1459.4 1532.4 L1471.47 1532.4 L1471.47 1536.95 L1459.4 1536.95 L1459.4 1556.3 Q1459.4 1560.66 1460.58 1561.9 Q1461.79 1563.14 1465.45 1563.14 L1471.47 1563.14 L1471.47 1568.04 L1465.45 1568.04 Q1458.67 1568.04 1456.09 1565.53 Q1453.52 1562.98 1453.52 1556.3 L1453.52 1536.95 L1449.22 1536.95 L1449.22 1532.4 L1453.52 1532.4 L1453.52 1522.27 L1459.4 1522.27 Z\" fill=\"#000000\" fill-rule=\"evenodd\" fill-opacity=\"1\" /><path clip-path=\"url(#clip600)\" d=\"M1508.8 1546.53 L1508.8 1568.04 L1502.95 1568.04 L1502.95 1546.72 Q1502.95 1541.66 1500.97 1539.14 Q1499 1536.63 1495.05 1536.63 Q1490.31 1536.63 1487.57 1539.65 Q1484.84 1542.68 1484.84 1547.9 L1484.84 1568.04 L1478.95 1568.04 L1478.95 1518.52 L1484.84 1518.52 L1484.84 1537.93 Q1486.94 1534.72 1489.77 1533.13 Q1492.63 1531.54 1496.36 1531.54 Q1502.5 1531.54 1505.65 1535.36 Q1508.8 1539.14 1508.8 1546.53 Z\" fill=\"#000000\" fill-rule=\"evenodd\" fill-opacity=\"1\" /><polyline clip-path=\"url(#clip602)\" style=\"stroke:#000000; stroke-linecap:butt; stroke-linejoin:round; stroke-width:2; stroke-opacity:0.1; fill:none\" points=\"\n",
       "  309.866,1387.07 2352.76,1387.07 \n",
       "  \"/>\n",
       "<polyline clip-path=\"url(#clip602)\" style=\"stroke:#000000; stroke-linecap:butt; stroke-linejoin:round; stroke-width:2; stroke-opacity:0.1; fill:none\" points=\"\n",
       "  309.866,986.899 2352.76,986.899 \n",
       "  \"/>\n",
       "<polyline clip-path=\"url(#clip602)\" style=\"stroke:#000000; stroke-linecap:butt; stroke-linejoin:round; stroke-width:2; stroke-opacity:0.1; fill:none\" points=\"\n",
       "  309.866,586.729 2352.76,586.729 \n",
       "  \"/>\n",
       "<polyline clip-path=\"url(#clip602)\" style=\"stroke:#000000; stroke-linecap:butt; stroke-linejoin:round; stroke-width:2; stroke-opacity:0.1; fill:none\" points=\"\n",
       "  309.866,186.56 2352.76,186.56 \n",
       "  \"/>\n",
       "<polyline clip-path=\"url(#clip600)\" style=\"stroke:#000000; stroke-linecap:butt; stroke-linejoin:round; stroke-width:4; stroke-opacity:1; fill:none\" points=\"\n",
       "  309.866,1423.18 309.866,47.2441 \n",
       "  \"/>\n",
       "<polyline clip-path=\"url(#clip600)\" style=\"stroke:#000000; stroke-linecap:butt; stroke-linejoin:round; stroke-width:4; stroke-opacity:1; fill:none\" points=\"\n",
       "  309.866,1387.07 328.763,1387.07 \n",
       "  \"/>\n",
       "<polyline clip-path=\"url(#clip600)\" style=\"stroke:#000000; stroke-linecap:butt; stroke-linejoin:round; stroke-width:4; stroke-opacity:1; fill:none\" points=\"\n",
       "  309.866,986.899 328.763,986.899 \n",
       "  \"/>\n",
       "<polyline clip-path=\"url(#clip600)\" style=\"stroke:#000000; stroke-linecap:butt; stroke-linejoin:round; stroke-width:4; stroke-opacity:1; fill:none\" points=\"\n",
       "  309.866,586.729 328.763,586.729 \n",
       "  \"/>\n",
       "<polyline clip-path=\"url(#clip600)\" style=\"stroke:#000000; stroke-linecap:butt; stroke-linejoin:round; stroke-width:4; stroke-opacity:1; fill:none\" points=\"\n",
       "  309.866,186.56 328.763,186.56 \n",
       "  \"/>\n",
       "<path clip-path=\"url(#clip600)\" d=\"M126.205 1372.87 Q122.593 1372.87 120.765 1376.43 Q118.959 1379.97 118.959 1387.1 Q118.959 1394.21 120.765 1397.77 Q122.593 1401.32 126.205 1401.32 Q129.839 1401.32 131.644 1397.77 Q133.473 1394.21 133.473 1387.1 Q133.473 1379.97 131.644 1376.43 Q129.839 1372.87 126.205 1372.87 M126.205 1369.16 Q132.015 1369.16 135.07 1373.77 Q138.149 1378.35 138.149 1387.1 Q138.149 1395.83 135.07 1400.44 Q132.015 1405.02 126.205 1405.02 Q120.394 1405.02 117.316 1400.44 Q114.26 1395.83 114.26 1387.1 Q114.26 1378.35 117.316 1373.77 Q120.394 1369.16 126.205 1369.16 Z\" fill=\"#000000\" fill-rule=\"evenodd\" fill-opacity=\"1\" /><path clip-path=\"url(#clip600)\" d=\"M146.366 1398.47 L151.251 1398.47 L151.251 1404.35 L146.366 1404.35 L146.366 1398.47 Z\" fill=\"#000000\" fill-rule=\"evenodd\" fill-opacity=\"1\" /><path clip-path=\"url(#clip600)\" d=\"M171.436 1372.87 Q167.825 1372.87 165.996 1376.43 Q164.19 1379.97 164.19 1387.1 Q164.19 1394.21 165.996 1397.77 Q167.825 1401.32 171.436 1401.32 Q175.07 1401.32 176.876 1397.77 Q178.704 1394.21 178.704 1387.1 Q178.704 1379.97 176.876 1376.43 Q175.07 1372.87 171.436 1372.87 M171.436 1369.16 Q177.246 1369.16 180.301 1373.77 Q183.38 1378.35 183.38 1387.1 Q183.38 1395.83 180.301 1400.44 Q177.246 1405.02 171.436 1405.02 Q165.626 1405.02 162.547 1400.44 Q159.491 1395.83 159.491 1387.1 Q159.491 1378.35 162.547 1373.77 Q165.626 1369.16 171.436 1369.16 Z\" fill=\"#000000\" fill-rule=\"evenodd\" fill-opacity=\"1\" /><path clip-path=\"url(#clip600)\" d=\"M201.598 1372.87 Q197.987 1372.87 196.158 1376.43 Q194.352 1379.97 194.352 1387.1 Q194.352 1394.21 196.158 1397.77 Q197.987 1401.32 201.598 1401.32 Q205.232 1401.32 207.037 1397.77 Q208.866 1394.21 208.866 1387.1 Q208.866 1379.97 207.037 1376.43 Q205.232 1372.87 201.598 1372.87 M201.598 1369.16 Q207.408 1369.16 210.463 1373.77 Q213.542 1378.35 213.542 1387.1 Q213.542 1395.83 210.463 1400.44 Q207.408 1405.02 201.598 1405.02 Q195.787 1405.02 192.709 1400.44 Q189.653 1395.83 189.653 1387.1 Q189.653 1378.35 192.709 1373.77 Q195.787 1369.16 201.598 1369.16 Z\" fill=\"#000000\" fill-rule=\"evenodd\" fill-opacity=\"1\" /><path clip-path=\"url(#clip600)\" d=\"M231.76 1372.87 Q228.148 1372.87 226.32 1376.43 Q224.514 1379.97 224.514 1387.1 Q224.514 1394.21 226.32 1397.77 Q228.148 1401.32 231.76 1401.32 Q235.394 1401.32 237.199 1397.77 Q239.028 1394.21 239.028 1387.1 Q239.028 1379.97 237.199 1376.43 Q235.394 1372.87 231.76 1372.87 M231.76 1369.16 Q237.57 1369.16 240.625 1373.77 Q243.704 1378.35 243.704 1387.1 Q243.704 1395.83 240.625 1400.44 Q237.57 1405.02 231.76 1405.02 Q225.949 1405.02 222.871 1400.44 Q219.815 1395.83 219.815 1387.1 Q219.815 1378.35 222.871 1373.77 Q225.949 1369.16 231.76 1369.16 Z\" fill=\"#000000\" fill-rule=\"evenodd\" fill-opacity=\"1\" /><path clip-path=\"url(#clip600)\" d=\"M261.921 1372.87 Q258.31 1372.87 256.482 1376.43 Q254.676 1379.97 254.676 1387.1 Q254.676 1394.21 256.482 1397.77 Q258.31 1401.32 261.921 1401.32 Q265.556 1401.32 267.361 1397.77 Q269.19 1394.21 269.19 1387.1 Q269.19 1379.97 267.361 1376.43 Q265.556 1372.87 261.921 1372.87 M261.921 1369.16 Q267.732 1369.16 270.787 1373.77 Q273.866 1378.35 273.866 1387.1 Q273.866 1395.83 270.787 1400.44 Q267.732 1405.02 261.921 1405.02 Q256.111 1405.02 253.033 1400.44 Q249.977 1395.83 249.977 1387.1 Q249.977 1378.35 253.033 1373.77 Q256.111 1369.16 261.921 1369.16 Z\" fill=\"#000000\" fill-rule=\"evenodd\" fill-opacity=\"1\" /><path clip-path=\"url(#clip600)\" d=\"M127.431 972.697 Q123.82 972.697 121.992 976.262 Q120.186 979.804 120.186 986.934 Q120.186 994.04 121.992 997.605 Q123.82 1001.15 127.431 1001.15 Q131.066 1001.15 132.871 997.605 Q134.7 994.04 134.7 986.934 Q134.7 979.804 132.871 976.262 Q131.066 972.697 127.431 972.697 M127.431 968.994 Q133.242 968.994 136.297 973.6 Q139.376 978.184 139.376 986.934 Q139.376 995.66 136.297 1000.27 Q133.242 1004.85 127.431 1004.85 Q121.621 1004.85 118.543 1000.27 Q115.487 995.66 115.487 986.934 Q115.487 978.184 118.543 973.6 Q121.621 968.994 127.431 968.994 Z\" fill=\"#000000\" fill-rule=\"evenodd\" fill-opacity=\"1\" /><path clip-path=\"url(#clip600)\" d=\"M147.593 998.299 L152.478 998.299 L152.478 1004.18 L147.593 1004.18 L147.593 998.299 Z\" fill=\"#000000\" fill-rule=\"evenodd\" fill-opacity=\"1\" /><path clip-path=\"url(#clip600)\" d=\"M172.663 972.697 Q169.052 972.697 167.223 976.262 Q165.417 979.804 165.417 986.934 Q165.417 994.04 167.223 997.605 Q169.052 1001.15 172.663 1001.15 Q176.297 1001.15 178.102 997.605 Q179.931 994.04 179.931 986.934 Q179.931 979.804 178.102 976.262 Q176.297 972.697 172.663 972.697 M172.663 968.994 Q178.473 968.994 181.528 973.6 Q184.607 978.184 184.607 986.934 Q184.607 995.66 181.528 1000.27 Q178.473 1004.85 172.663 1004.85 Q166.852 1004.85 163.774 1000.27 Q160.718 995.66 160.718 986.934 Q160.718 978.184 163.774 973.6 Q166.852 968.994 172.663 968.994 Z\" fill=\"#000000\" fill-rule=\"evenodd\" fill-opacity=\"1\" /><path clip-path=\"url(#clip600)\" d=\"M202.824 972.697 Q199.213 972.697 197.385 976.262 Q195.579 979.804 195.579 986.934 Q195.579 994.04 197.385 997.605 Q199.213 1001.15 202.824 1001.15 Q206.459 1001.15 208.264 997.605 Q210.093 994.04 210.093 986.934 Q210.093 979.804 208.264 976.262 Q206.459 972.697 202.824 972.697 M202.824 968.994 Q208.635 968.994 211.69 973.6 Q214.769 978.184 214.769 986.934 Q214.769 995.66 211.69 1000.27 Q208.635 1004.85 202.824 1004.85 Q197.014 1004.85 193.936 1000.27 Q190.88 995.66 190.88 986.934 Q190.88 978.184 193.936 973.6 Q197.014 968.994 202.824 968.994 Z\" fill=\"#000000\" fill-rule=\"evenodd\" fill-opacity=\"1\" /><path clip-path=\"url(#clip600)\" d=\"M232.986 972.697 Q229.375 972.697 227.547 976.262 Q225.741 979.804 225.741 986.934 Q225.741 994.04 227.547 997.605 Q229.375 1001.15 232.986 1001.15 Q236.621 1001.15 238.426 997.605 Q240.255 994.04 240.255 986.934 Q240.255 979.804 238.426 976.262 Q236.621 972.697 232.986 972.697 M232.986 968.994 Q238.797 968.994 241.852 973.6 Q244.931 978.184 244.931 986.934 Q244.931 995.66 241.852 1000.27 Q238.797 1004.85 232.986 1004.85 Q227.176 1004.85 224.098 1000.27 Q221.042 995.66 221.042 986.934 Q221.042 978.184 224.098 973.6 Q227.176 968.994 232.986 968.994 Z\" fill=\"#000000\" fill-rule=\"evenodd\" fill-opacity=\"1\" /><path clip-path=\"url(#clip600)\" d=\"M253.958 1000.24 L261.597 1000.24 L261.597 973.878 L253.287 975.545 L253.287 971.285 L261.551 969.619 L266.227 969.619 L266.227 1000.24 L273.866 1000.24 L273.866 1004.18 L253.958 1004.18 L253.958 1000.24 Z\" fill=\"#000000\" fill-rule=\"evenodd\" fill-opacity=\"1\" /><path clip-path=\"url(#clip600)\" d=\"M127.802 572.528 Q124.191 572.528 122.362 576.093 Q120.556 579.635 120.556 586.764 Q120.556 593.871 122.362 597.435 Q124.191 600.977 127.802 600.977 Q131.436 600.977 133.242 597.435 Q135.07 593.871 135.07 586.764 Q135.07 579.635 133.242 576.093 Q131.436 572.528 127.802 572.528 M127.802 568.824 Q133.612 568.824 136.667 573.431 Q139.746 578.014 139.746 586.764 Q139.746 595.491 136.667 600.097 Q133.612 604.681 127.802 604.681 Q121.992 604.681 118.913 600.097 Q115.857 595.491 115.857 586.764 Q115.857 578.014 118.913 573.431 Q121.992 568.824 127.802 568.824 Z\" fill=\"#000000\" fill-rule=\"evenodd\" fill-opacity=\"1\" /><path clip-path=\"url(#clip600)\" d=\"M147.964 598.13 L152.848 598.13 L152.848 604.009 L147.964 604.009 L147.964 598.13 Z\" fill=\"#000000\" fill-rule=\"evenodd\" fill-opacity=\"1\" /><path clip-path=\"url(#clip600)\" d=\"M173.033 572.528 Q169.422 572.528 167.593 576.093 Q165.788 579.635 165.788 586.764 Q165.788 593.871 167.593 597.435 Q169.422 600.977 173.033 600.977 Q176.667 600.977 178.473 597.435 Q180.301 593.871 180.301 586.764 Q180.301 579.635 178.473 576.093 Q176.667 572.528 173.033 572.528 M173.033 568.824 Q178.843 568.824 181.899 573.431 Q184.977 578.014 184.977 586.764 Q184.977 595.491 181.899 600.097 Q178.843 604.681 173.033 604.681 Q167.223 604.681 164.144 600.097 Q161.089 595.491 161.089 586.764 Q161.089 578.014 164.144 573.431 Q167.223 568.824 173.033 568.824 Z\" fill=\"#000000\" fill-rule=\"evenodd\" fill-opacity=\"1\" /><path clip-path=\"url(#clip600)\" d=\"M203.195 572.528 Q199.584 572.528 197.755 576.093 Q195.95 579.635 195.95 586.764 Q195.95 593.871 197.755 597.435 Q199.584 600.977 203.195 600.977 Q206.829 600.977 208.635 597.435 Q210.463 593.871 210.463 586.764 Q210.463 579.635 208.635 576.093 Q206.829 572.528 203.195 572.528 M203.195 568.824 Q209.005 568.824 212.061 573.431 Q215.139 578.014 215.139 586.764 Q215.139 595.491 212.061 600.097 Q209.005 604.681 203.195 604.681 Q197.385 604.681 194.306 600.097 Q191.25 595.491 191.25 586.764 Q191.25 578.014 194.306 573.431 Q197.385 568.824 203.195 568.824 Z\" fill=\"#000000\" fill-rule=\"evenodd\" fill-opacity=\"1\" /><path clip-path=\"url(#clip600)\" d=\"M233.357 572.528 Q229.746 572.528 227.917 576.093 Q226.111 579.635 226.111 586.764 Q226.111 593.871 227.917 597.435 Q229.746 600.977 233.357 600.977 Q236.991 600.977 238.797 597.435 Q240.625 593.871 240.625 586.764 Q240.625 579.635 238.797 576.093 Q236.991 572.528 233.357 572.528 M233.357 568.824 Q239.167 568.824 242.222 573.431 Q245.301 578.014 245.301 586.764 Q245.301 595.491 242.222 600.097 Q239.167 604.681 233.357 604.681 Q227.547 604.681 224.468 600.097 Q221.412 595.491 221.412 586.764 Q221.412 578.014 224.468 573.431 Q227.547 568.824 233.357 568.824 Z\" fill=\"#000000\" fill-rule=\"evenodd\" fill-opacity=\"1\" /><path clip-path=\"url(#clip600)\" d=\"M257.546 600.074 L273.866 600.074 L273.866 604.009 L251.921 604.009 L251.921 600.074 Q254.583 597.32 259.167 592.69 Q263.773 588.037 264.954 586.695 Q267.199 584.172 268.079 582.436 Q268.982 580.676 268.982 578.986 Q268.982 576.232 267.037 574.496 Q265.116 572.76 262.014 572.76 Q259.815 572.76 257.361 573.524 Q254.931 574.287 252.153 575.838 L252.153 571.116 Q254.977 569.982 257.431 569.403 Q259.884 568.824 261.921 568.824 Q267.292 568.824 270.486 571.51 Q273.681 574.195 273.681 578.686 Q273.681 580.815 272.87 582.736 Q272.083 584.635 269.977 587.227 Q269.398 587.898 266.296 591.116 Q263.195 594.31 257.546 600.074 Z\" fill=\"#000000\" fill-rule=\"evenodd\" fill-opacity=\"1\" /><path clip-path=\"url(#clip600)\" d=\"M126.853 172.359 Q123.242 172.359 121.413 175.924 Q119.607 179.465 119.607 186.595 Q119.607 193.701 121.413 197.266 Q123.242 200.808 126.853 200.808 Q130.487 200.808 132.292 197.266 Q134.121 193.701 134.121 186.595 Q134.121 179.465 132.292 175.924 Q130.487 172.359 126.853 172.359 M126.853 168.655 Q132.663 168.655 135.718 173.262 Q138.797 177.845 138.797 186.595 Q138.797 195.322 135.718 199.928 Q132.663 204.511 126.853 204.511 Q121.043 204.511 117.964 199.928 Q114.908 195.322 114.908 186.595 Q114.908 177.845 117.964 173.262 Q121.043 168.655 126.853 168.655 Z\" fill=\"#000000\" fill-rule=\"evenodd\" fill-opacity=\"1\" /><path clip-path=\"url(#clip600)\" d=\"M147.015 197.961 L151.899 197.961 L151.899 203.84 L147.015 203.84 L147.015 197.961 Z\" fill=\"#000000\" fill-rule=\"evenodd\" fill-opacity=\"1\" /><path clip-path=\"url(#clip600)\" d=\"M172.084 172.359 Q168.473 172.359 166.644 175.924 Q164.839 179.465 164.839 186.595 Q164.839 193.701 166.644 197.266 Q168.473 200.808 172.084 200.808 Q175.718 200.808 177.524 197.266 Q179.352 193.701 179.352 186.595 Q179.352 179.465 177.524 175.924 Q175.718 172.359 172.084 172.359 M172.084 168.655 Q177.894 168.655 180.95 173.262 Q184.028 177.845 184.028 186.595 Q184.028 195.322 180.95 199.928 Q177.894 204.511 172.084 204.511 Q166.274 204.511 163.195 199.928 Q160.14 195.322 160.14 186.595 Q160.14 177.845 163.195 173.262 Q166.274 168.655 172.084 168.655 Z\" fill=\"#000000\" fill-rule=\"evenodd\" fill-opacity=\"1\" /><path clip-path=\"url(#clip600)\" d=\"M202.246 172.359 Q198.635 172.359 196.806 175.924 Q195 179.465 195 186.595 Q195 193.701 196.806 197.266 Q198.635 200.808 202.246 200.808 Q205.88 200.808 207.686 197.266 Q209.514 193.701 209.514 186.595 Q209.514 179.465 207.686 175.924 Q205.88 172.359 202.246 172.359 M202.246 168.655 Q208.056 168.655 211.111 173.262 Q214.19 177.845 214.19 186.595 Q214.19 195.322 211.111 199.928 Q208.056 204.511 202.246 204.511 Q196.436 204.511 193.357 199.928 Q190.301 195.322 190.301 186.595 Q190.301 177.845 193.357 173.262 Q196.436 168.655 202.246 168.655 Z\" fill=\"#000000\" fill-rule=\"evenodd\" fill-opacity=\"1\" /><path clip-path=\"url(#clip600)\" d=\"M232.408 172.359 Q228.797 172.359 226.968 175.924 Q225.162 179.465 225.162 186.595 Q225.162 193.701 226.968 197.266 Q228.797 200.808 232.408 200.808 Q236.042 200.808 237.847 197.266 Q239.676 193.701 239.676 186.595 Q239.676 179.465 237.847 175.924 Q236.042 172.359 232.408 172.359 M232.408 168.655 Q238.218 168.655 241.273 173.262 Q244.352 177.845 244.352 186.595 Q244.352 195.322 241.273 199.928 Q238.218 204.511 232.408 204.511 Q226.598 204.511 223.519 199.928 Q220.463 195.322 220.463 186.595 Q220.463 177.845 223.519 173.262 Q226.598 168.655 232.408 168.655 Z\" fill=\"#000000\" fill-rule=\"evenodd\" fill-opacity=\"1\" /><path clip-path=\"url(#clip600)\" d=\"M266.736 185.206 Q270.093 185.924 271.968 188.192 Q273.866 190.461 273.866 193.794 Q273.866 198.91 270.347 201.711 Q266.829 204.511 260.347 204.511 Q258.171 204.511 255.857 204.072 Q253.565 203.655 251.111 202.798 L251.111 198.285 Q253.056 199.419 255.371 199.998 Q257.685 200.576 260.208 200.576 Q264.607 200.576 266.898 198.84 Q269.213 197.104 269.213 193.794 Q269.213 190.738 267.06 189.025 Q264.931 187.289 261.111 187.289 L257.083 187.289 L257.083 183.447 L261.296 183.447 Q264.745 183.447 266.574 182.081 Q268.403 180.692 268.403 178.1 Q268.403 175.438 266.505 174.025 Q264.63 172.59 261.111 172.59 Q259.19 172.59 256.991 173.007 Q254.792 173.424 252.153 174.303 L252.153 170.137 Q254.815 169.396 257.13 169.026 Q259.468 168.655 261.528 168.655 Q266.852 168.655 269.954 171.086 Q273.056 173.493 273.056 177.613 Q273.056 180.484 271.412 182.475 Q269.769 184.442 266.736 185.206 Z\" fill=\"#000000\" fill-rule=\"evenodd\" fill-opacity=\"1\" /><path clip-path=\"url(#clip600)\" d=\"M16.4842 865.041 L16.4842 824.841 L21.895 824.841 L21.895 841.71 L64.0042 841.71 L64.0042 848.171 L21.895 848.171 L21.895 865.041 L16.4842 865.041 Z\" fill=\"#000000\" fill-rule=\"evenodd\" fill-opacity=\"1\" /><path clip-path=\"url(#clip600)\" d=\"M28.3562 820.894 L28.3562 815.038 L64.0042 815.038 L64.0042 820.894 L28.3562 820.894 M14.479 820.894 L14.479 815.038 L21.895 815.038 L21.895 820.894 L14.479 820.894 Z\" fill=\"#000000\" fill-rule=\"evenodd\" fill-opacity=\"1\" /><path clip-path=\"url(#clip600)\" d=\"M35.1993 775.029 Q31.2526 772.833 29.3747 769.778 Q27.4968 766.722 27.4968 762.585 Q27.4968 757.015 31.4117 753.991 Q35.2948 750.967 42.4881 750.967 L64.0042 750.967 L64.0042 756.855 L42.679 756.855 Q37.5546 756.855 35.072 758.67 Q32.5894 760.484 32.5894 764.208 Q32.5894 768.759 35.6131 771.401 Q38.6368 774.043 43.8567 774.043 L64.0042 774.043 L64.0042 779.931 L42.679 779.931 Q37.5228 779.931 35.072 781.745 Q32.5894 783.56 32.5894 787.347 Q32.5894 791.835 35.6449 794.477 Q38.6686 797.118 43.8567 797.118 L64.0042 797.118 L64.0042 803.007 L28.3562 803.007 L28.3562 797.118 L33.8944 797.118 Q30.616 795.113 29.0564 792.312 Q27.4968 789.511 27.4968 785.66 Q27.4968 781.777 29.4702 779.072 Q31.4436 776.334 35.1993 775.029 Z\" fill=\"#000000\" fill-rule=\"evenodd\" fill-opacity=\"1\" /><path clip-path=\"url(#clip600)\" d=\"M44.7161 708.794 L47.5806 708.794 L47.5806 735.721 Q53.6281 735.339 56.8109 732.093 Q59.9619 728.814 59.9619 722.99 Q59.9619 719.616 59.1344 716.465 Q58.3069 713.282 56.6518 710.163 L62.1899 710.163 Q63.5267 713.314 64.227 716.624 Q64.9272 719.934 64.9272 723.34 Q64.9272 731.87 59.9619 736.867 Q54.9967 741.832 46.5303 741.832 Q37.7774 741.832 32.6531 737.122 Q27.4968 732.379 27.4968 724.358 Q27.4968 717.165 32.1438 712.996 Q36.7589 708.794 44.7161 708.794 M42.9973 714.651 Q38.1912 714.714 35.3266 717.356 Q32.4621 719.966 32.4621 724.295 Q32.4621 729.196 35.2312 732.156 Q38.0002 735.085 43.0292 735.53 L42.9973 714.651 Z\" fill=\"#000000\" fill-rule=\"evenodd\" fill-opacity=\"1\" /><path clip-path=\"url(#clip600)\" d=\"M14.479 679.003 L14.479 665.507 L19.0304 665.507 L19.0304 673.146 L68.0464 673.146 L68.0464 665.507 L72.5979 665.507 L72.5979 679.003 L14.479 679.003 Z\" fill=\"#000000\" fill-rule=\"evenodd\" fill-opacity=\"1\" /><path clip-path=\"url(#clip600)\" d=\"M29.4065 630.305 L34.9447 630.305 Q33.6716 632.788 33.035 635.461 Q32.3984 638.135 32.3984 641 Q32.3984 645.36 33.7352 647.556 Q35.072 649.721 37.7456 649.721 Q39.7826 649.721 40.9603 648.161 Q42.1061 646.601 43.1565 641.891 L43.6021 639.886 Q44.9389 633.647 47.3897 631.037 Q49.8086 628.395 54.1691 628.395 Q59.1344 628.395 62.0308 632.342 Q64.9272 636.257 64.9272 643.132 Q64.9272 645.997 64.3543 649.116 Q63.8132 652.203 62.6992 655.641 L56.6518 655.641 Q58.3387 652.394 59.198 649.243 Q60.0256 646.092 60.0256 643.005 Q60.0256 638.867 58.6251 636.639 Q57.1929 634.411 54.6147 634.411 Q52.2276 634.411 50.9545 636.034 Q49.6813 637.626 48.5037 643.068 L48.0262 645.105 Q46.8804 650.548 44.5251 652.967 Q42.138 655.386 38.0002 655.386 Q32.9713 655.386 30.2341 651.821 Q27.4968 648.256 27.4968 641.7 Q27.4968 638.453 27.9743 635.589 Q28.4517 632.724 29.4065 630.305 Z\" fill=\"#000000\" fill-rule=\"evenodd\" fill-opacity=\"1\" /><path clip-path=\"url(#clip600)\" d=\"M14.479 605.383 L72.5979 605.383 L72.5979 618.879 L68.0464 618.879 L68.0464 611.272 L19.0304 611.272 L19.0304 618.879 L14.479 618.879 L14.479 605.383 Z\" fill=\"#000000\" fill-rule=\"evenodd\" fill-opacity=\"1\" /><polyline clip-path=\"url(#clip602)\" style=\"stroke:#009af9; stroke-linecap:butt; stroke-linejoin:round; stroke-width:4; stroke-opacity:1; fill:none\" points=\"\n",
       "  367.683,1371.04 581.823,1330.21 795.962,1263.68 1010.1,1171.98 1224.24,1054.76 1438.38,912.035 1652.52,743.632 1866.66,550.05 2080.8,330.789 2294.94,86.1857 \n",
       "  \n",
       "  \"/>\n",
       "<polyline clip-path=\"url(#clip602)\" style=\"stroke:#e26f46; stroke-linecap:butt; stroke-linejoin:round; stroke-width:4; stroke-opacity:1; fill:none\" points=\"\n",
       "  367.683,1382.53 581.823,1374.21 795.962,1360.46 1010.1,1356.64 1224.24,1346.72 1438.38,1340.38 1652.52,1332.21 1866.66,1326.54 2080.8,1319.04 2294.94,1310.04 \n",
       "  \n",
       "  \"/>\n",
       "<polyline clip-path=\"url(#clip602)\" style=\"stroke:#3da44d; stroke-linecap:butt; stroke-linejoin:round; stroke-width:4; stroke-opacity:1; fill:none\" points=\"\n",
       "  367.683,1384.24 581.823,1382.02 795.962,1379.71 1010.1,1377.42 1224.24,1375.14 1438.38,1372.85 1652.52,1370.58 1866.66,1368.27 2080.8,1365.98 2294.94,1363.7 \n",
       "  \n",
       "  \"/>\n",
       "<path clip-path=\"url(#clip600)\" d=\"\n",
       "M1929.94 300.469 L2284.66 300.469 L2284.66 93.1086 L1929.94 93.1086  Z\n",
       "  \" fill=\"#ffffff\" fill-rule=\"evenodd\" fill-opacity=\"1\"/>\n",
       "<polyline clip-path=\"url(#clip600)\" style=\"stroke:#000000; stroke-linecap:butt; stroke-linejoin:round; stroke-width:4; stroke-opacity:1; fill:none\" points=\"\n",
       "  1929.94,300.469 2284.66,300.469 2284.66,93.1086 1929.94,93.1086 1929.94,300.469 \n",
       "  \"/>\n",
       "<polyline clip-path=\"url(#clip600)\" style=\"stroke:#009af9; stroke-linecap:butt; stroke-linejoin:round; stroke-width:4; stroke-opacity:1; fill:none\" points=\"\n",
       "  1952.64,144.949 2088.83,144.949 \n",
       "  \"/>\n",
       "<path clip-path=\"url(#clip600)\" d=\"M2111.53 127.669 L2117.83 127.669 L2133.15 156.581 L2133.15 127.669 L2137.69 127.669 L2137.69 162.229 L2131.39 162.229 L2116.07 133.317 L2116.07 162.229 L2111.53 162.229 L2111.53 127.669 Z\" fill=\"#000000\" fill-rule=\"evenodd\" fill-opacity=\"1\" /><path clip-path=\"url(#clip600)\" d=\"M2158.59 149.196 Q2153.43 149.196 2151.44 150.377 Q2149.45 151.557 2149.45 154.405 Q2149.45 156.673 2150.93 158.016 Q2152.43 159.335 2155 159.335 Q2158.54 159.335 2160.67 156.835 Q2162.83 154.312 2162.83 150.145 L2162.83 149.196 L2158.59 149.196 M2167.09 147.437 L2167.09 162.229 L2162.83 162.229 L2162.83 158.293 Q2161.37 160.655 2159.19 161.789 Q2157.02 162.9 2153.87 162.9 Q2149.89 162.9 2147.53 160.678 Q2145.19 158.432 2145.19 154.682 Q2145.19 150.307 2148.11 148.085 Q2151.04 145.863 2156.86 145.863 L2162.83 145.863 L2162.83 145.446 Q2162.83 142.507 2160.88 140.909 Q2158.96 139.289 2155.47 139.289 Q2153.24 139.289 2151.14 139.821 Q2149.03 140.354 2147.09 141.419 L2147.09 137.483 Q2149.42 136.581 2151.62 136.141 Q2153.82 135.678 2155.91 135.678 Q2161.53 135.678 2164.31 138.594 Q2167.09 141.511 2167.09 147.437 Z\" fill=\"#000000\" fill-rule=\"evenodd\" fill-opacity=\"1\" /><path clip-path=\"url(#clip600)\" d=\"M2175.86 136.303 L2180.12 136.303 L2180.12 162.229 L2175.86 162.229 L2175.86 136.303 M2175.86 126.21 L2180.12 126.21 L2180.12 131.604 L2175.86 131.604 L2175.86 126.21 Z\" fill=\"#000000\" fill-rule=\"evenodd\" fill-opacity=\"1\" /><path clip-path=\"url(#clip600)\" d=\"M2185.98 136.303 L2190.49 136.303 L2198.59 158.062 L2206.69 136.303 L2211.21 136.303 L2201.48 162.229 L2195.7 162.229 L2185.98 136.303 Z\" fill=\"#000000\" fill-rule=\"evenodd\" fill-opacity=\"1\" /><path clip-path=\"url(#clip600)\" d=\"M2239.26 148.201 L2239.26 150.284 L2219.68 150.284 Q2219.96 154.682 2222.32 156.997 Q2224.7 159.289 2228.94 159.289 Q2231.39 159.289 2233.68 158.687 Q2236 158.085 2238.27 156.881 L2238.27 160.909 Q2235.97 161.881 2233.57 162.391 Q2231.16 162.9 2228.68 162.9 Q2222.48 162.9 2218.85 159.289 Q2215.23 155.678 2215.23 149.52 Q2215.23 143.155 2218.66 139.428 Q2222.11 135.678 2227.94 135.678 Q2233.17 135.678 2236.21 139.057 Q2239.26 142.414 2239.26 148.201 M2235 146.951 Q2234.96 143.456 2233.04 141.372 Q2231.14 139.289 2227.99 139.289 Q2224.42 139.289 2222.27 141.303 Q2220.14 143.317 2219.82 146.974 L2235 146.951 Z\" fill=\"#000000\" fill-rule=\"evenodd\" fill-opacity=\"1\" /><polyline clip-path=\"url(#clip600)\" style=\"stroke:#e26f46; stroke-linecap:butt; stroke-linejoin:round; stroke-width:4; stroke-opacity:1; fill:none\" points=\"\n",
       "  1952.64,196.789 2088.83,196.789 \n",
       "  \"/>\n",
       "<path clip-path=\"url(#clip600)\" d=\"M2111.53 179.509 L2131.39 179.509 L2131.39 183.444 L2116.21 183.444 L2116.21 193.629 L2129.91 193.629 L2129.91 197.564 L2116.21 197.564 L2116.21 214.069 L2111.53 214.069 L2111.53 179.509 Z\" fill=\"#000000\" fill-rule=\"evenodd\" fill-opacity=\"1\" /><path clip-path=\"url(#clip600)\" d=\"M2158.68 180.643 L2158.68 185.203 Q2156.02 183.93 2153.66 183.305 Q2151.3 182.68 2149.1 182.68 Q2145.28 182.68 2143.2 184.161 Q2141.14 185.643 2141.14 188.374 Q2141.14 190.666 2142.5 191.847 Q2143.89 193.004 2147.73 193.722 L2150.56 194.3 Q2155.79 195.296 2158.27 197.819 Q2160.77 200.319 2160.77 204.532 Q2160.77 209.555 2157.39 212.147 Q2154.03 214.74 2147.53 214.74 Q2145.07 214.74 2142.29 214.184 Q2139.54 213.629 2136.58 212.541 L2136.58 207.726 Q2139.42 209.323 2142.16 210.133 Q2144.89 210.944 2147.53 210.944 Q2151.53 210.944 2153.71 209.37 Q2155.88 207.796 2155.88 204.879 Q2155.88 202.333 2154.31 200.897 Q2152.76 199.462 2149.19 198.745 L2146.35 198.189 Q2141.11 197.147 2138.78 194.925 Q2136.44 192.703 2136.44 188.745 Q2136.44 184.161 2139.66 181.522 Q2142.9 178.884 2148.57 178.884 Q2151 178.884 2153.52 179.323 Q2156.04 179.763 2158.68 180.643 Z\" fill=\"#000000\" fill-rule=\"evenodd\" fill-opacity=\"1\" /><path clip-path=\"url(#clip600)\" d=\"M2168.06 179.509 L2175.03 179.509 L2183.85 203.027 L2192.71 179.509 L2199.68 179.509 L2199.68 214.069 L2195.12 214.069 L2195.12 183.722 L2186.21 207.425 L2181.51 207.425 L2172.6 183.722 L2172.6 214.069 L2168.06 214.069 L2168.06 179.509 Z\" fill=\"#000000\" fill-rule=\"evenodd\" fill-opacity=\"1\" /><polyline clip-path=\"url(#clip600)\" style=\"stroke:#3da44d; stroke-linecap:butt; stroke-linejoin:round; stroke-width:4; stroke-opacity:1; fill:none\" points=\"\n",
       "  1952.64,248.629 2088.83,248.629 \n",
       "  \"/>\n",
       "<path clip-path=\"url(#clip600)\" d=\"M2111.53 231.349 L2116.21 231.349 L2116.21 245.955 L2131.72 231.349 L2137.73 231.349 L2120.58 247.46 L2138.96 265.909 L2132.8 265.909 L2116.21 249.265 L2116.21 265.909 L2111.53 265.909 L2111.53 231.349 Z\" fill=\"#000000\" fill-rule=\"evenodd\" fill-opacity=\"1\" /><path clip-path=\"url(#clip600)\" d=\"M2142.62 231.349 L2149.59 231.349 L2158.41 254.867 L2167.27 231.349 L2174.24 231.349 L2174.24 265.909 L2169.68 265.909 L2169.68 235.562 L2160.77 259.265 L2156.07 259.265 L2147.16 235.562 L2147.16 265.909 L2142.62 265.909 L2142.62 231.349 Z\" fill=\"#000000\" fill-rule=\"evenodd\" fill-opacity=\"1\" /><path clip-path=\"url(#clip600)\" d=\"M2188.2 235.191 L2188.2 248.177 L2194.08 248.177 Q2197.34 248.177 2199.12 246.487 Q2200.91 244.798 2200.91 241.673 Q2200.91 238.571 2199.12 236.881 Q2197.34 235.191 2194.08 235.191 L2188.2 235.191 M2183.52 231.349 L2194.08 231.349 Q2199.89 231.349 2202.85 233.987 Q2205.84 236.603 2205.84 241.673 Q2205.84 246.788 2202.85 249.404 Q2199.89 252.02 2194.08 252.02 L2188.2 252.02 L2188.2 265.909 L2183.52 265.909 L2183.52 231.349 Z\" fill=\"#000000\" fill-rule=\"evenodd\" fill-opacity=\"1\" /></svg>\n"
      ]
     },
     "execution_count": 17,
     "metadata": {},
     "output_type": "execute_result"
    }
   ],
   "source": [
    "xs = []\n",
    "ysnaive = []\n",
    "ysfsm = []\n",
    "yskmp = []\n",
    "\n",
    "for i = 50:50:500\n",
    "    pat = Vector{UInt8}(repeat('a', i) * 'b' * repeat('a', i))\n",
    "    txt = Vector{UInt8}(repeat('a', 2*i) * 'b' * repeat('a', i))\n",
    "    \n",
    "    tnaive = @belapsed naive_find($txt, $pat) seconds=0.01\n",
    "    \n",
    "    fsm = fsm_init(pat)\n",
    "    tfsm = @belapsed fsm_find($txt, $fsm) seconds=0.01\n",
    "    \n",
    "    kmp = kmp_init(pat)\n",
    "    tkmp = @belapsed kmp_find($txt, $kmp) seconds=0.01\n",
    "\n",
    "    push!(xs, length(txt))\n",
    "    push!(ysnaive, tnaive)\n",
    "    push!(ysfsm, tfsm)\n",
    "    push!(yskmp, tkmp)\n",
    "end\n",
    "\n",
    "plot(\n",
    "    xs,\n",
    "    [ysnaive, ysfsm, yskmp],\n",
    "    label=[\"Naive\" \"FSM\" \"KMP\"],\n",
    "    xlabel=\"Text length\",\n",
    "    ylabel=\"Time [s]\",\n",
    ")"
   ]
  },
  {
   "cell_type": "markdown",
   "id": "6afbfc3e",
   "metadata": {},
   "source": [
    "## Co się stało?\n",
    "Dla wzorca\n",
    "$\\underbrace{a\\dots a}_n\\,b\\,\\underbrace{a\\dots a}_n$,\n",
    "i tekstu\n",
    "$\\underbrace{a\\dots a}_{2n}\\,b\\,\\underbrace{a\\dots a}_n$,\n",
    "algorytm naiwny ma złożoność $O(n^2)$."
   ]
  },
  {
   "cell_type": "markdown",
   "id": "d84a7a12",
   "metadata": {},
   "source": [
    "## Czasy inicjalizacji\n",
    "Czasy tworzenia funkcji przejścia KMP\n",
    "są na tyle małe w stosunku do FSM,\n",
    "że nie ma sensu ich porównywać."
   ]
  },
  {
   "cell_type": "markdown",
   "id": "8af4765a",
   "metadata": {},
   "source": [
    "# Wnioski\n",
    "Dla krótkich wzorców algorytm naiwny jest szybszy od FSM.\n",
    "Jedynie dla bardziej skomplikowanych wzorców widać\n",
    "przewagę FSM.\n",
    "\n",
    "Algorytm KMP wygrywa w każdym przypadku.\n",
    "Być może wynika to z prostej implementacji,\n",
    "która jest optymalnie kompilowana przez Julię."
   ]
  }
 ],
 "metadata": {
  "kernelspec": {
   "display_name": "Julia 1.7.3",
   "language": "julia",
   "name": "julia-1.7"
  },
  "language_info": {
   "file_extension": ".jl",
   "mimetype": "application/julia",
   "name": "julia",
   "version": "1.7.3"
  }
 },
 "nbformat": 4,
 "nbformat_minor": 5
}
